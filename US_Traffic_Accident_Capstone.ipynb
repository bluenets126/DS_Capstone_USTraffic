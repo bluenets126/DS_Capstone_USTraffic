{
 "cells": [
  {
   "cell_type": "markdown",
   "id": "c2460480-ff82-4122-bf14-576681006d70",
   "metadata": {},
   "source": [
    "## US Traffic Accidents"
   ]
  },
  {
   "cell_type": "markdown",
   "id": "4685fd51-fcf7-45e0-be5a-a347ded3d568",
   "metadata": {},
   "source": [
    "## Overview"
   ]
  },
  {
   "cell_type": "raw",
   "id": "eae0e0a3-e24e-42a1-900d-0f45dfa0b701",
   "metadata": {},
   "source": [
    "Bottom Line Up Front - Traffic accidents are on the rise.  Especially during colder weather where adverse weather like snow/sleet/freezing rain are more likely.  The Winter season is the worst for traffic accidents of recent.  Since the pandemic in 2020 there has been a significant increase in traffic accidents, especially in winter time.  What is interesting is prior to the pandemic traffic accidents were most common during rush hour times, however since the pandemic that has switched.  Now that people are commuting less to work and working from home, the majority of accidents occur outside of rush hour times.  This is slowly trending back to prior to the pandemic due to work situations returning to normal and people going back into the office.  One thing that has stayed relatively consistent with minimal increase is traffic accidents around traffic features which entails more signage and slower speeds.  This trends in the direction of preventing accidents rather than no signage or slowing of speeds.  Although some of these situations such as weather is out of our control, there are preventative measure that can be put in place or incentives to minimize traffic accidents as best as possible.  There are three solutions at the bottom to help prevent traffic incidents correlated to the three identified trends stated in this paragraph"
   ]
  },
  {
   "cell_type": "code",
   "execution_count": null,
   "id": "e010cfa2-d0de-4135-a3ad-f1c74b58e982",
   "metadata": {},
   "outputs": [],
   "source": []
  },
  {
   "cell_type": "markdown",
   "id": "245aee3a-2054-4074-977a-78c2f798878b",
   "metadata": {},
   "source": [
    "## Business Understanding"
   ]
  },
  {
   "cell_type": "raw",
   "id": "e7ac9f03-bd31-4fc4-9a66-803d9b2c9fb4",
   "metadata": {},
   "source": [
    "We are looking at traffic accident data from 2016 - March 2023.  This is an interesting set of data as it covers the start of the Covid-19 pandemic which really took off in mid 2020.  So even though we see the immediate impact the pandemic had on driving incidents, the end of the data does not cover the full normalization back to every day living and still catches the tail end of the pandemic.  Although we can't see what the data is like now, we can still spot trends and see preventative measure to put into place to minimize traffic.  Things such as signage, weather, distance, time of day, all play a role in traffic accidents and we will clearly identify and display that here.  Traffic accidents happen all across the United States, although as may be expected, are more frequent in highly populated areas.  Although we have calculated an Accidnet Ratio per state and possibly could lead to further investigation on what those states are doing to lead to less accidents per person."
   ]
  },
  {
   "cell_type": "code",
   "execution_count": null,
   "id": "87d98b0b-b3ae-43af-96a1-b71773bf797f",
   "metadata": {},
   "outputs": [],
   "source": []
  },
  {
   "cell_type": "markdown",
   "id": "2e2cf681-e6ed-4216-a5c6-c1a694c394f8",
   "metadata": {},
   "source": [
    "## Data"
   ]
  },
  {
   "cell_type": "code",
   "execution_count": 1,
   "id": "1c331ca5-fe16-4e8d-9179-ba3b63c9bd94",
   "metadata": {},
   "outputs": [],
   "source": [
    "from pyspark.sql import SparkSession\n",
    "from pyspark.sql.types import DoubleType, StringType, IntegerType, FloatType, LongType, ShortType, BooleanType\n",
    "from pyspark.sql.functions import min, max, col, regexp_replace, to_date, udf, isnan, when, coalesce, round, split, lower, trim, expr, sum as spark_sum, hour, when, month, year, dayofweek, unix_timestamp, avg, count\n",
    "from pyspark.ml.classification import RandomForestClassifier\n",
    "import numpy as np\n",
    "import pandas as pd\n",
    "import matplotlib.pyplot as plt\n",
    "import seaborn as sns\n",
    "import scipy as stats\n",
    "from scipy.stats import chi2_contingency, ttest_ind, f_oneway\n",
    "import statsmodels\n"
   ]
  },
  {
   "cell_type": "markdown",
   "id": "51c4b2b2-f4b9-49f3-9808-8b5620456f3f",
   "metadata": {},
   "source": [
    "## Data Loading"
   ]
  },
  {
   "cell_type": "code",
   "execution_count": 2,
   "id": "0380327e-4fac-4cdc-af18-d71b4d0bbc82",
   "metadata": {},
   "outputs": [],
   "source": [
    "#Population CSV from CENSUS by state in 2023 (end date for traffic accident information\n",
    "df = pd.read_csv(\"NST-EST2024-POP.csv\")"
   ]
  },
  {
   "cell_type": "code",
   "execution_count": 3,
   "id": "e7267bba-a6e8-4f5a-9881-ad210b3c7656",
   "metadata": {},
   "outputs": [
    {
     "data": {
      "text/html": [
       "<div>\n",
       "<style scoped>\n",
       "    .dataframe tbody tr th:only-of-type {\n",
       "        vertical-align: middle;\n",
       "    }\n",
       "\n",
       "    .dataframe tbody tr th {\n",
       "        vertical-align: top;\n",
       "    }\n",
       "\n",
       "    .dataframe thead th {\n",
       "        text-align: right;\n",
       "    }\n",
       "</style>\n",
       "<table border=\"1\" class=\"dataframe\">\n",
       "  <thead>\n",
       "    <tr style=\"text-align: right;\">\n",
       "      <th></th>\n",
       "      <th>2023</th>\n",
       "      <th>Abbr</th>\n",
       "    </tr>\n",
       "  </thead>\n",
       "  <tbody>\n",
       "    <tr>\n",
       "      <th>0</th>\n",
       "      <td>5,117,673</td>\n",
       "      <td>AL</td>\n",
       "    </tr>\n",
       "    <tr>\n",
       "      <th>1</th>\n",
       "      <td>7,473,027</td>\n",
       "      <td>AZ</td>\n",
       "    </tr>\n",
       "    <tr>\n",
       "      <th>2</th>\n",
       "      <td>3,069,463</td>\n",
       "      <td>AR</td>\n",
       "    </tr>\n",
       "    <tr>\n",
       "      <th>3</th>\n",
       "      <td>39,198,693</td>\n",
       "      <td>CA</td>\n",
       "    </tr>\n",
       "    <tr>\n",
       "      <th>4</th>\n",
       "      <td>5,901,339</td>\n",
       "      <td>CO</td>\n",
       "    </tr>\n",
       "    <tr>\n",
       "      <th>5</th>\n",
       "      <td>3,643,023</td>\n",
       "      <td>CT</td>\n",
       "    </tr>\n",
       "    <tr>\n",
       "      <th>6</th>\n",
       "      <td>1,036,423</td>\n",
       "      <td>DE</td>\n",
       "    </tr>\n",
       "    <tr>\n",
       "      <th>7</th>\n",
       "      <td>687,324</td>\n",
       "      <td>DC</td>\n",
       "    </tr>\n",
       "    <tr>\n",
       "      <th>8</th>\n",
       "      <td>22,904,868</td>\n",
       "      <td>FL</td>\n",
       "    </tr>\n",
       "    <tr>\n",
       "      <th>9</th>\n",
       "      <td>11,064,432</td>\n",
       "      <td>GA</td>\n",
       "    </tr>\n",
       "    <tr>\n",
       "      <th>10</th>\n",
       "      <td>1,971,122</td>\n",
       "      <td>ID</td>\n",
       "    </tr>\n",
       "    <tr>\n",
       "      <th>11</th>\n",
       "      <td>12,642,259</td>\n",
       "      <td>IL</td>\n",
       "    </tr>\n",
       "    <tr>\n",
       "      <th>12</th>\n",
       "      <td>6,880,131</td>\n",
       "      <td>IN</td>\n",
       "    </tr>\n",
       "    <tr>\n",
       "      <th>13</th>\n",
       "      <td>3,218,414</td>\n",
       "      <td>IA</td>\n",
       "    </tr>\n",
       "    <tr>\n",
       "      <th>14</th>\n",
       "      <td>2,951,500</td>\n",
       "      <td>KS</td>\n",
       "    </tr>\n",
       "    <tr>\n",
       "      <th>15</th>\n",
       "      <td>4,550,595</td>\n",
       "      <td>KY</td>\n",
       "    </tr>\n",
       "    <tr>\n",
       "      <th>16</th>\n",
       "      <td>4,588,071</td>\n",
       "      <td>LA</td>\n",
       "    </tr>\n",
       "    <tr>\n",
       "      <th>17</th>\n",
       "      <td>1,399,646</td>\n",
       "      <td>ME</td>\n",
       "    </tr>\n",
       "    <tr>\n",
       "      <th>18</th>\n",
       "      <td>6,217,062</td>\n",
       "      <td>MD</td>\n",
       "    </tr>\n",
       "    <tr>\n",
       "      <th>19</th>\n",
       "      <td>7,066,568</td>\n",
       "      <td>MA</td>\n",
       "    </tr>\n",
       "    <tr>\n",
       "      <th>20</th>\n",
       "      <td>10,083,356</td>\n",
       "      <td>MI</td>\n",
       "    </tr>\n",
       "    <tr>\n",
       "      <th>21</th>\n",
       "      <td>5,753,048</td>\n",
       "      <td>MN</td>\n",
       "    </tr>\n",
       "    <tr>\n",
       "      <th>22</th>\n",
       "      <td>2,943,172</td>\n",
       "      <td>MS</td>\n",
       "    </tr>\n",
       "    <tr>\n",
       "      <th>23</th>\n",
       "      <td>6,208,038</td>\n",
       "      <td>MO</td>\n",
       "    </tr>\n",
       "    <tr>\n",
       "      <th>24</th>\n",
       "      <td>1,131,302</td>\n",
       "      <td>MT</td>\n",
       "    </tr>\n",
       "    <tr>\n",
       "      <th>25</th>\n",
       "      <td>1,987,864</td>\n",
       "      <td>NE</td>\n",
       "    </tr>\n",
       "    <tr>\n",
       "      <th>26</th>\n",
       "      <td>3,214,363</td>\n",
       "      <td>NV</td>\n",
       "    </tr>\n",
       "    <tr>\n",
       "      <th>27</th>\n",
       "      <td>1,402,199</td>\n",
       "      <td>NH</td>\n",
       "    </tr>\n",
       "    <tr>\n",
       "      <th>28</th>\n",
       "      <td>9,379,642</td>\n",
       "      <td>NJ</td>\n",
       "    </tr>\n",
       "    <tr>\n",
       "      <th>29</th>\n",
       "      <td>2,121,164</td>\n",
       "      <td>NM</td>\n",
       "    </tr>\n",
       "    <tr>\n",
       "      <th>30</th>\n",
       "      <td>19,737,367</td>\n",
       "      <td>NY</td>\n",
       "    </tr>\n",
       "    <tr>\n",
       "      <th>31</th>\n",
       "      <td>10,881,189</td>\n",
       "      <td>NC</td>\n",
       "    </tr>\n",
       "    <tr>\n",
       "      <th>32</th>\n",
       "      <td>789,047</td>\n",
       "      <td>ND</td>\n",
       "    </tr>\n",
       "    <tr>\n",
       "      <th>33</th>\n",
       "      <td>11,824,034</td>\n",
       "      <td>OH</td>\n",
       "    </tr>\n",
       "    <tr>\n",
       "      <th>34</th>\n",
       "      <td>4,063,882</td>\n",
       "      <td>OK</td>\n",
       "    </tr>\n",
       "    <tr>\n",
       "      <th>35</th>\n",
       "      <td>4,253,653</td>\n",
       "      <td>OR</td>\n",
       "    </tr>\n",
       "    <tr>\n",
       "      <th>36</th>\n",
       "      <td>13,017,721</td>\n",
       "      <td>PA</td>\n",
       "    </tr>\n",
       "    <tr>\n",
       "      <th>37</th>\n",
       "      <td>1,103,429</td>\n",
       "      <td>RI</td>\n",
       "    </tr>\n",
       "    <tr>\n",
       "      <th>38</th>\n",
       "      <td>5,387,830</td>\n",
       "      <td>SC</td>\n",
       "    </tr>\n",
       "    <tr>\n",
       "      <th>39</th>\n",
       "      <td>918,305</td>\n",
       "      <td>SD</td>\n",
       "    </tr>\n",
       "    <tr>\n",
       "      <th>40</th>\n",
       "      <td>7,148,304</td>\n",
       "      <td>TN</td>\n",
       "    </tr>\n",
       "    <tr>\n",
       "      <th>41</th>\n",
       "      <td>30,727,890</td>\n",
       "      <td>TX</td>\n",
       "    </tr>\n",
       "    <tr>\n",
       "      <th>42</th>\n",
       "      <td>3,443,222</td>\n",
       "      <td>UT</td>\n",
       "    </tr>\n",
       "    <tr>\n",
       "      <th>43</th>\n",
       "      <td>648,708</td>\n",
       "      <td>VT</td>\n",
       "    </tr>\n",
       "    <tr>\n",
       "      <th>44</th>\n",
       "      <td>8,734,685</td>\n",
       "      <td>VA</td>\n",
       "    </tr>\n",
       "    <tr>\n",
       "      <th>45</th>\n",
       "      <td>7,857,320</td>\n",
       "      <td>WA</td>\n",
       "    </tr>\n",
       "    <tr>\n",
       "      <th>46</th>\n",
       "      <td>1,770,495</td>\n",
       "      <td>WV</td>\n",
       "    </tr>\n",
       "    <tr>\n",
       "      <th>47</th>\n",
       "      <td>5,930,405</td>\n",
       "      <td>WI</td>\n",
       "    </tr>\n",
       "    <tr>\n",
       "      <th>48</th>\n",
       "      <td>585,067</td>\n",
       "      <td>WY</td>\n",
       "    </tr>\n",
       "  </tbody>\n",
       "</table>\n",
       "</div>"
      ],
      "text/plain": [
       "          2023 Abbr\n",
       "0    5,117,673   AL\n",
       "1    7,473,027   AZ\n",
       "2    3,069,463   AR\n",
       "3   39,198,693   CA\n",
       "4    5,901,339   CO\n",
       "5    3,643,023   CT\n",
       "6    1,036,423   DE\n",
       "7      687,324   DC\n",
       "8   22,904,868   FL\n",
       "9   11,064,432   GA\n",
       "10   1,971,122   ID\n",
       "11  12,642,259   IL\n",
       "12   6,880,131   IN\n",
       "13   3,218,414   IA\n",
       "14   2,951,500   KS\n",
       "15   4,550,595   KY\n",
       "16   4,588,071   LA\n",
       "17   1,399,646   ME\n",
       "18   6,217,062   MD\n",
       "19   7,066,568   MA\n",
       "20  10,083,356   MI\n",
       "21   5,753,048   MN\n",
       "22   2,943,172   MS\n",
       "23   6,208,038   MO\n",
       "24   1,131,302   MT\n",
       "25   1,987,864   NE\n",
       "26   3,214,363   NV\n",
       "27   1,402,199   NH\n",
       "28   9,379,642   NJ\n",
       "29   2,121,164   NM\n",
       "30  19,737,367   NY\n",
       "31  10,881,189   NC\n",
       "32     789,047   ND\n",
       "33  11,824,034   OH\n",
       "34   4,063,882   OK\n",
       "35   4,253,653   OR\n",
       "36  13,017,721   PA\n",
       "37   1,103,429   RI\n",
       "38   5,387,830   SC\n",
       "39     918,305   SD\n",
       "40   7,148,304   TN\n",
       "41  30,727,890   TX\n",
       "42   3,443,222   UT\n",
       "43     648,708   VT\n",
       "44   8,734,685   VA\n",
       "45   7,857,320   WA\n",
       "46   1,770,495   WV\n",
       "47   5,930,405   WI\n",
       "48     585,067   WY"
      ]
     },
     "execution_count": 3,
     "metadata": {},
     "output_type": "execute_result"
    }
   ],
   "source": [
    "#Only take two columns needed\n",
    "col_names = [\"2023\", \"Abbr\"]\n",
    "\n",
    "pop_df = df[col_names]\n",
    "\n",
    "pop_df"
   ]
  },
  {
   "cell_type": "code",
   "execution_count": 4,
   "id": "afeb7703-2213-45b2-95cd-8987efa294e3",
   "metadata": {},
   "outputs": [],
   "source": [
    "#Spark Session\n",
    "spark = SparkSession.builder \\\n",
    "    .appName(\"US Traffic Accident Analysis\") \\\n",
    "    .getOrCreate()"
   ]
  },
  {
   "cell_type": "code",
   "execution_count": 5,
   "id": "c4bc719e-951f-4e3d-8de3-213a9c23addb",
   "metadata": {},
   "outputs": [
    {
     "name": "stdout",
     "output_type": "stream",
     "text": [
      "yes\n",
      "US Traffic Accident Analysis\n"
     ]
    }
   ],
   "source": [
    "#Check if active\n",
    "if (spark.getActiveSession()):\n",
    "    print('yes')\n",
    "    print(spark.sparkContext.appName)\n",
    "else:\n",
    "    print('no')"
   ]
  },
  {
   "cell_type": "code",
   "execution_count": 6,
   "id": "fc3d09c6-4ac4-4586-9b8d-03d1e5b1c4ad",
   "metadata": {},
   "outputs": [],
   "source": [
    "#Load the US traffic accident data into Pyspark DataFrame\n",
    "traffic_df = spark.read.csv(\"US_Accidents_March23.csv\", header=True, inferSchema=True)\n",
    "\n"
   ]
  },
  {
   "cell_type": "markdown",
   "id": "379e794a-84d0-4592-9854-8513a2d2b9dd",
   "metadata": {},
   "source": [
    "## Data Exploration & Cleaning"
   ]
  },
  {
   "cell_type": "code",
   "execution_count": 7,
   "id": "942850b3-aafe-4766-9f14-7caaaea4e133",
   "metadata": {},
   "outputs": [
    {
     "name": "stdout",
     "output_type": "stream",
     "text": [
      "+----+-------+--------+-------------------+-------------------+------------------+------------------+-------+-------+------------+--------------------+--------------------+------------+----------+-----+----------+-------+----------+------------+-------------------+--------------+-------------+-----------+------------+--------------+--------------+---------------+-----------------+-----------------+-------+-----+--------+--------+--------+-------+-------+----------+-------+-----+---------------+--------------+------------+--------------+--------------+-----------------+---------------------+\n",
      "|  ID| Source|Severity|         Start_Time|           End_Time|         Start_Lat|         Start_Lng|End_Lat|End_Lng|Distance(mi)|         Description|              Street|        City|    County|State|   Zipcode|Country|  Timezone|Airport_Code|  Weather_Timestamp|Temperature(F)|Wind_Chill(F)|Humidity(%)|Pressure(in)|Visibility(mi)|Wind_Direction|Wind_Speed(mph)|Precipitation(in)|Weather_Condition|Amenity| Bump|Crossing|Give_Way|Junction|No_Exit|Railway|Roundabout|Station| Stop|Traffic_Calming|Traffic_Signal|Turning_Loop|Sunrise_Sunset|Civil_Twilight|Nautical_Twilight|Astronomical_Twilight|\n",
      "+----+-------+--------+-------------------+-------------------+------------------+------------------+-------+-------+------------+--------------------+--------------------+------------+----------+-----+----------+-------+----------+------------+-------------------+--------------+-------------+-----------+------------+--------------+--------------+---------------+-----------------+-----------------+-------+-----+--------+--------+--------+-------+-------+----------+-------+-----+---------------+--------------+------------+--------------+--------------+-----------------+---------------------+\n",
      "| A-1|Source2|       3|2016-02-08 05:46:00|2016-02-08 11:00:00|         39.865147|        -84.058723|   NULL|   NULL|        0.01|Right lane blocke...|              I-70 E|      Dayton|Montgomery|   OH|     45424|     US|US/Eastern|        KFFO|2016-02-08 05:58:00|          36.9|         NULL|       91.0|       29.68|          10.0|          Calm|           NULL|             0.02|       Light Rain|  false|false|   false|   false|   false|  false|  false|     false|  false|false|          false|         false|       false|         Night|         Night|            Night|                Night|\n",
      "| A-2|Source2|       2|2016-02-08 06:07:59|2016-02-08 06:37:59| 39.92805900000001|        -82.831184|   NULL|   NULL|        0.01|Accident on Brice...|            Brice Rd|Reynoldsburg|  Franklin|   OH|43068-3402|     US|US/Eastern|        KCMH|2016-02-08 05:51:00|          37.9|         NULL|      100.0|       29.65|          10.0|          Calm|           NULL|              0.0|       Light Rain|  false|false|   false|   false|   false|  false|  false|     false|  false|false|          false|         false|       false|         Night|         Night|            Night|                  Day|\n",
      "| A-3|Source2|       2|2016-02-08 06:49:27|2016-02-08 07:19:27|         39.063148|        -84.032608|   NULL|   NULL|        0.01|Accident on OH-32...|      State Route 32|Williamsburg|  Clermont|   OH|     45176|     US|US/Eastern|        KI69|2016-02-08 06:56:00|          36.0|         33.3|      100.0|       29.67|          10.0|            SW|            3.5|             NULL|         Overcast|  false|false|   false|   false|   false|  false|  false|     false|  false|false|          false|          true|       false|         Night|         Night|              Day|                  Day|\n",
      "| A-4|Source2|       3|2016-02-08 07:23:34|2016-02-08 07:53:34|         39.747753|-84.20558199999998|   NULL|   NULL|        0.01|Accident on I-75 ...|              I-75 S|      Dayton|Montgomery|   OH|     45417|     US|US/Eastern|        KDAY|2016-02-08 07:38:00|          35.1|         31.0|       96.0|       29.64|           9.0|            SW|            4.6|             NULL|    Mostly Cloudy|  false|false|   false|   false|   false|  false|  false|     false|  false|false|          false|         false|       false|         Night|           Day|              Day|                  Day|\n",
      "| A-5|Source2|       2|2016-02-08 07:39:07|2016-02-08 08:09:07|         39.627781|        -84.188354|   NULL|   NULL|        0.01|Accident on McEwe...|Miamisburg Center...|      Dayton|Montgomery|   OH|     45459|     US|US/Eastern|        KMGY|2016-02-08 07:53:00|          36.0|         33.3|       89.0|       29.65|           6.0|            SW|            3.5|             NULL|    Mostly Cloudy|  false|false|   false|   false|   false|  false|  false|     false|  false|false|          false|          true|       false|           Day|           Day|              Day|                  Day|\n",
      "| A-6|Source2|       3|2016-02-08 07:44:26|2016-02-08 08:14:26|40.100590000000004|-82.92519399999998|   NULL|   NULL|        0.01|Accident on I-270...|      Westerville Rd| Westerville|  Franklin|   OH|     43081|     US|US/Eastern|        KCMH|2016-02-08 07:51:00|          37.9|         35.5|       97.0|       29.63|           7.0|           SSW|            3.5|             0.03|       Light Rain|  false|false|   false|   false|   false|  false|  false|     false|  false|false|          false|         false|       false|           Day|           Day|              Day|                  Day|\n",
      "| A-7|Source2|       2|2016-02-08 07:59:35|2016-02-08 08:29:35|         39.758274|-84.23050699999997|   NULL|   NULL|         0.0|Accident on Oakri...|      N Woodward Ave|      Dayton|Montgomery|   OH|45417-2476|     US|US/Eastern|        KDAY|2016-02-08 07:56:00|          34.0|         31.0|      100.0|       29.66|           7.0|           WSW|            3.5|             NULL|         Overcast|  false|false|   false|   false|   false|  false|  false|     false|  false|false|          false|         false|       false|           Day|           Day|              Day|                  Day|\n",
      "| A-8|Source2|       3|2016-02-08 07:59:58|2016-02-08 08:29:58|         39.770382|        -84.194901|   NULL|   NULL|        0.01|Accident on I-75 ...|           N Main St|      Dayton|Montgomery|   OH|     45405|     US|US/Eastern|        KDAY|2016-02-08 07:56:00|          34.0|         31.0|      100.0|       29.66|           7.0|           WSW|            3.5|             NULL|         Overcast|  false|false|   false|   false|   false|  false|  false|     false|  false|false|          false|         false|       false|           Day|           Day|              Day|                  Day|\n",
      "| A-9|Source2|       2|2016-02-08 08:00:40|2016-02-08 08:30:40|         39.778061|        -84.172005|   NULL|   NULL|         0.0|Accident on Notre...|      Notre Dame Ave|      Dayton|Montgomery|   OH|45404-1923|     US|US/Eastern|        KFFO|2016-02-08 07:58:00|          33.3|         NULL|       99.0|       29.67|           5.0|            SW|            1.2|             NULL|    Mostly Cloudy|  false|false|   false|   false|   false|  false|  false|     false|  false|false|          false|         false|       false|           Day|           Day|              Day|                  Day|\n",
      "|A-10|Source2|       3|2016-02-08 08:10:04|2016-02-08 08:40:04|40.100590000000004|-82.92519399999998|   NULL|   NULL|        0.01|Right hand should...|      Westerville Rd| Westerville|  Franklin|   OH|     43081|     US|US/Eastern|        KCMH|2016-02-08 08:28:00|          37.4|         33.8|      100.0|       29.62|           3.0|           SSW|            4.6|             0.02|       Light Rain|  false|false|   false|   false|   false|  false|  false|     false|  false|false|          false|         false|       false|           Day|           Day|              Day|                  Day|\n",
      "+----+-------+--------+-------------------+-------------------+------------------+------------------+-------+-------+------------+--------------------+--------------------+------------+----------+-----+----------+-------+----------+------------+-------------------+--------------+-------------+-----------+------------+--------------+--------------+---------------+-----------------+-----------------+-------+-----+--------+--------+--------+-------+-------+----------+-------+-----+---------------+--------------+------------+--------------+--------------+-----------------+---------------------+\n",
      "only showing top 10 rows\n",
      "\n"
     ]
    },
    {
     "data": {
      "text/plain": [
       "<bound method DataFrame.printSchema of DataFrame[ID: string, Source: string, Severity: int, Start_Time: timestamp, End_Time: timestamp, Start_Lat: double, Start_Lng: double, End_Lat: double, End_Lng: double, Distance(mi): double, Description: string, Street: string, City: string, County: string, State: string, Zipcode: string, Country: string, Timezone: string, Airport_Code: string, Weather_Timestamp: timestamp, Temperature(F): double, Wind_Chill(F): double, Humidity(%): double, Pressure(in): double, Visibility(mi): double, Wind_Direction: string, Wind_Speed(mph): double, Precipitation(in): double, Weather_Condition: string, Amenity: boolean, Bump: boolean, Crossing: boolean, Give_Way: boolean, Junction: boolean, No_Exit: boolean, Railway: boolean, Roundabout: boolean, Station: boolean, Stop: boolean, Traffic_Calming: boolean, Traffic_Signal: boolean, Turning_Loop: boolean, Sunrise_Sunset: string, Civil_Twilight: string, Nautical_Twilight: string, Astronomical_Twilight: string]>"
      ]
     },
     "execution_count": 7,
     "metadata": {},
     "output_type": "execute_result"
    }
   ],
   "source": [
    "traffic_df.show(10)\n",
    "traffic_df.printSchema"
   ]
  },
  {
   "cell_type": "code",
   "execution_count": 8,
   "id": "38c18e83-4b7b-4683-86e9-9714f854d47a",
   "metadata": {},
   "outputs": [],
   "source": [
    "#Drop duplicate rows - there are none after checking\n",
    "traffic_df = traffic_df.dropDuplicates()\n",
    "\n",
    "#Remove all null values\n",
    "df_nonull = traffic_df.dropna()"
   ]
  },
  {
   "cell_type": "code",
   "execution_count": 9,
   "id": "0439e8f6-66b7-42b5-ba13-88dfc5e9d6df",
   "metadata": {},
   "outputs": [
    {
     "name": "stdout",
     "output_type": "stream",
     "text": [
      "7728394\n",
      "3554549\n"
     ]
    }
   ],
   "source": [
    "#Check size of 3 dataframes - 2.5 million rows with null values - about 33% of data\n",
    "print(traffic_df.count())\n",
    "#print(traffic_df_cleaned.count())\n",
    "print(df_nonull.count())"
   ]
  },
  {
   "cell_type": "code",
   "execution_count": 10,
   "id": "8aee9fa7-b138-4cf3-b60d-c7e79aec44c0",
   "metadata": {},
   "outputs": [],
   "source": [
    "null_counts = traffic_df.select([\n",
    "    spark_sum(col(c).isNull().cast(\"int\")).alias(c) for c in traffic_df.columns\n",
    "])\n",
    "\n",
    "null_dict = null_counts.collect()[0].asDict()\n",
    "\n"
   ]
  },
  {
   "cell_type": "code",
   "execution_count": 11,
   "id": "23e8ea62-ea7d-4033-ae86-2022397f7e08",
   "metadata": {},
   "outputs": [
    {
     "data": {
      "text/plain": [
       "{'ID': 0,\n",
       " 'Source': 0,\n",
       " 'Severity': 0,\n",
       " 'Start_Time': 0,\n",
       " 'End_Time': 0,\n",
       " 'Start_Lat': 0,\n",
       " 'Start_Lng': 0,\n",
       " 'End_Lat': 3402762,\n",
       " 'End_Lng': 3402762,\n",
       " 'Distance(mi)': 0,\n",
       " 'Description': 5,\n",
       " 'Street': 10869,\n",
       " 'City': 253,\n",
       " 'County': 0,\n",
       " 'State': 0,\n",
       " 'Zipcode': 1915,\n",
       " 'Country': 0,\n",
       " 'Timezone': 7808,\n",
       " 'Airport_Code': 22635,\n",
       " 'Weather_Timestamp': 120228,\n",
       " 'Temperature(F)': 163853,\n",
       " 'Wind_Chill(F)': 1999019,\n",
       " 'Humidity(%)': 174144,\n",
       " 'Pressure(in)': 140679,\n",
       " 'Visibility(mi)': 177098,\n",
       " 'Wind_Direction': 175206,\n",
       " 'Wind_Speed(mph)': 571233,\n",
       " 'Precipitation(in)': 2203586,\n",
       " 'Weather_Condition': 173459,\n",
       " 'Amenity': 0,\n",
       " 'Bump': 0,\n",
       " 'Crossing': 0,\n",
       " 'Give_Way': 0,\n",
       " 'Junction': 0,\n",
       " 'No_Exit': 0,\n",
       " 'Railway': 0,\n",
       " 'Roundabout': 0,\n",
       " 'Station': 0,\n",
       " 'Stop': 0,\n",
       " 'Traffic_Calming': 0,\n",
       " 'Traffic_Signal': 0,\n",
       " 'Turning_Loop': 0,\n",
       " 'Sunrise_Sunset': 23246,\n",
       " 'Civil_Twilight': 23246,\n",
       " 'Nautical_Twilight': 23246,\n",
       " 'Astronomical_Twilight': 23246}"
      ]
     },
     "execution_count": 11,
     "metadata": {},
     "output_type": "execute_result"
    }
   ],
   "source": [
    "null_dict"
   ]
  },
  {
   "cell_type": "code",
   "execution_count": 12,
   "id": "60088c52-60bb-48db-ad5b-4fd3f3807011",
   "metadata": {},
   "outputs": [],
   "source": [
    "traffic_df = traffic_df.drop(\"End_Lat\", \"End_Lng\")"
   ]
  },
  {
   "cell_type": "code",
   "execution_count": null,
   "id": "59ccad18-c729-46e3-a47e-dfba5c919233",
   "metadata": {},
   "outputs": [],
   "source": []
  },
  {
   "cell_type": "code",
   "execution_count": 13,
   "id": "7f1ed993-f363-446d-a9e4-4604b73db439",
   "metadata": {},
   "outputs": [
    {
     "data": {
      "text/plain": [
       "['ID',\n",
       " 'Source',\n",
       " 'Severity',\n",
       " 'Start_Time',\n",
       " 'End_Time',\n",
       " 'Start_Lat',\n",
       " 'Start_Lng',\n",
       " 'Distance(mi)',\n",
       " 'Description',\n",
       " 'Street',\n",
       " 'City',\n",
       " 'County',\n",
       " 'State',\n",
       " 'Zipcode',\n",
       " 'Country',\n",
       " 'Timezone',\n",
       " 'Airport_Code',\n",
       " 'Weather_Timestamp',\n",
       " 'Temperature(F)',\n",
       " 'Wind_Chill(F)',\n",
       " 'Humidity(%)',\n",
       " 'Pressure(in)',\n",
       " 'Visibility(mi)',\n",
       " 'Wind_Direction',\n",
       " 'Wind_Speed(mph)',\n",
       " 'Precipitation(in)',\n",
       " 'Weather_Condition',\n",
       " 'Amenity',\n",
       " 'Bump',\n",
       " 'Crossing',\n",
       " 'Give_Way',\n",
       " 'Junction',\n",
       " 'No_Exit',\n",
       " 'Railway',\n",
       " 'Roundabout',\n",
       " 'Station',\n",
       " 'Stop',\n",
       " 'Traffic_Calming',\n",
       " 'Traffic_Signal',\n",
       " 'Turning_Loop',\n",
       " 'Sunrise_Sunset',\n",
       " 'Civil_Twilight',\n",
       " 'Nautical_Twilight',\n",
       " 'Astronomical_Twilight']"
      ]
     },
     "execution_count": 13,
     "metadata": {},
     "output_type": "execute_result"
    }
   ],
   "source": [
    "traffic_df.columns"
   ]
  },
  {
   "cell_type": "code",
   "execution_count": 14,
   "id": "39cf833c-63e3-4cfe-a940-7eb2b0a8683e",
   "metadata": {},
   "outputs": [
    {
     "name": "stdout",
     "output_type": "stream",
     "text": [
      "Minimum value: 0.0, Count: 3290226\n"
     ]
    }
   ],
   "source": [
    "#Checking min value of precipitation to see if its more than 0 - it isn't\n",
    "min_val = df_nonull.agg(min(\"Precipitation(in)\")).collect()[0][0]\n",
    "\n",
    "#See how many times its 0.0\n",
    "count_min = df_nonull.filter(df_nonull[\"Precipitation(in)\"] == min_val).count()\n",
    "print(f\"Minimum value: {min_val}, Count: {count_min}\")"
   ]
  },
  {
   "cell_type": "code",
   "execution_count": 15,
   "id": "7400f3ff-3630-44f9-997a-7a5711985ab9",
   "metadata": {},
   "outputs": [
    {
     "name": "stdout",
     "output_type": "stream",
     "text": [
      "\n",
      "📊 Distinct values in 'ID': 7728394\n",
      "\n",
      "📊 Distinct values in 'Source': 3\n",
      "\n",
      "📊 Distinct values in 'Severity': 4\n",
      "\n",
      "📊 Distinct values in 'Start_Time': 5801064\n",
      "\n",
      "📊 Distinct values in 'End_Time': 6463024\n",
      "\n",
      "📊 Distinct values in 'Start_Lat': 2449172\n",
      "\n",
      "📊 Distinct values in 'Start_Lng': 2493905\n",
      "\n",
      "📊 Distinct values in 'Distance(mi)': 22382\n",
      "\n",
      "📊 Distinct values in 'Description': 3761579\n",
      "\n",
      "📊 Distinct values in 'Street': 336307\n",
      "\n",
      "📊 Distinct values in 'City': 13679\n",
      "\n",
      "📊 Distinct values in 'County': 1871\n",
      "\n",
      "📊 Distinct values in 'State': 49\n",
      "\n",
      "📊 Distinct values in 'Zipcode': 825095\n",
      "\n",
      "📊 Distinct values in 'Country': 1\n",
      "\n",
      "📊 Distinct values in 'Timezone': 5\n",
      "\n",
      "📊 Distinct values in 'Airport_Code': 2046\n",
      "\n",
      "📊 Distinct values in 'Weather_Timestamp': 941332\n",
      "\n",
      "📊 Distinct values in 'Temperature(F)': 861\n",
      "\n",
      "📊 Distinct values in 'Wind_Chill(F)': 1002\n",
      "\n",
      "📊 Distinct values in 'Humidity(%)': 101\n",
      "\n",
      "📊 Distinct values in 'Pressure(in)': 1145\n",
      "\n",
      "📊 Distinct values in 'Visibility(mi)': 93\n",
      "\n",
      "📊 Distinct values in 'Wind_Direction': 25\n",
      "\n",
      "📊 Distinct values in 'Wind_Speed(mph)': 185\n",
      "\n",
      "📊 Distinct values in 'Precipitation(in)': 300\n",
      "\n",
      "📊 Distinct values in 'Weather_Condition': 145\n",
      "\n",
      "📊 Distinct values in 'Amenity': 2\n",
      "\n",
      "📊 Distinct values in 'Bump': 2\n",
      "\n",
      "📊 Distinct values in 'Crossing': 2\n",
      "\n",
      "📊 Distinct values in 'Give_Way': 2\n",
      "\n",
      "📊 Distinct values in 'Junction': 2\n",
      "\n",
      "📊 Distinct values in 'No_Exit': 2\n",
      "\n",
      "📊 Distinct values in 'Railway': 2\n",
      "\n",
      "📊 Distinct values in 'Roundabout': 2\n",
      "\n",
      "📊 Distinct values in 'Station': 2\n",
      "\n",
      "📊 Distinct values in 'Stop': 2\n",
      "\n",
      "📊 Distinct values in 'Traffic_Calming': 2\n",
      "\n",
      "📊 Distinct values in 'Traffic_Signal': 2\n",
      "\n",
      "📊 Distinct values in 'Turning_Loop': 1\n",
      "\n",
      "📊 Distinct values in 'Sunrise_Sunset': 3\n",
      "\n",
      "📊 Distinct values in 'Civil_Twilight': 3\n",
      "\n",
      "📊 Distinct values in 'Nautical_Twilight': 3\n",
      "\n",
      "📊 Distinct values in 'Astronomical_Twilight': 3\n"
     ]
    }
   ],
   "source": [
    "# View all fields and how many unique values there are\n",
    "for field in traffic_df.schema.fields:\n",
    "    col_name = field.name\n",
    "    counts = traffic_df.select(col_name).distinct().count()\n",
    "    print(f\"\\n📊 Distinct values in '{col_name}': {counts}\")"
   ]
  },
  {
   "cell_type": "code",
   "execution_count": 16,
   "id": "a05b9cdc-ca50-475e-b645-fa0a34c937ff",
   "metadata": {},
   "outputs": [
    {
     "name": "stdout",
     "output_type": "stream",
     "text": [
      "All False count: 5452028\n"
     ]
    }
   ],
   "source": [
    "#Count number of rows where all traffic features are False\n",
    "target_cols = [\n",
    "    'Bump', 'Crossing', 'Give_Way', 'Junction', 'No_Exit',\n",
    "    'Railway', 'Roundabout', 'Station', 'Stop', 'Traffic_Calming',\n",
    "    'Traffic_Signal', 'Turning_Loop'\n",
    "]\n",
    "\n",
    "count_false = traffic_df.filter(\n",
    "    sum((col(c) == False).cast(\"int\") for c in target_cols) == len(target_cols)\n",
    ").count()\n",
    "\n",
    "\n",
    "print(f\"All False count: {count_false}\")"
   ]
  },
  {
   "cell_type": "code",
   "execution_count": 17,
   "id": "ca1099e6-96dc-4d42-9d37-64299f8faa65",
   "metadata": {},
   "outputs": [
    {
     "name": "stdout",
     "output_type": "stream",
     "text": [
      "86\n"
     ]
    },
    {
     "data": {
      "text/plain": [
       "200287"
      ]
     },
     "execution_count": 17,
     "metadata": {},
     "output_type": "execute_result"
    }
   ],
   "source": [
    "print(traffic_df.filter(col(\"Distance(mi)\") > 100).count())\n",
    "\n",
    "traffic_df.filter((col(\"Distance(mi)\") < 10) & (col(\"Severity\") == 4)).count()\n",
    "\n"
   ]
  },
  {
   "cell_type": "code",
   "execution_count": 18,
   "id": "cfad79e4-e519-40a6-add3-d5af7d8d86b9",
   "metadata": {},
   "outputs": [],
   "source": [
    "traffic_df = traffic_df.filter(col(\"Distance(mi)\") <= 100)\n"
   ]
  },
  {
   "cell_type": "markdown",
   "id": "4b26df44-0b03-4042-95b1-da0e57514168",
   "metadata": {},
   "source": [
    "## Column Creation"
   ]
  },
  {
   "cell_type": "code",
   "execution_count": 19,
   "id": "9b5303c0-5805-4279-98a4-4be0de4fe9a0",
   "metadata": {},
   "outputs": [],
   "source": [
    "traffic_df = traffic_df.withColumn(\n",
    "    \"time_of_day\",\n",
    "    when((hour(\"start_time\") >= 5) & (hour(\"start_time\") < 12), \"Morning\")\n",
    "    .when((hour(\"start_time\") >= 12) & (hour(\"start_time\") < 17), \"Afternoon\")\n",
    "    .otherwise(\"Night\")\n",
    ")"
   ]
  },
  {
   "cell_type": "code",
   "execution_count": 20,
   "id": "664467a2-d367-4139-b634-53a418cc487f",
   "metadata": {},
   "outputs": [],
   "source": [
    "#Get day of week\n",
    "traffic_df = traffic_df.withColumn(\"day_of_week_num\", dayofweek(\"start_time\"))"
   ]
  },
  {
   "cell_type": "code",
   "execution_count": 21,
   "id": "f9aa2015-863d-4705-b9a0-6d0a2fe2f292",
   "metadata": {},
   "outputs": [],
   "source": [
    "traffic_df = traffic_df.withColumn(\n",
    "    \"rush_hour\",\n",
    "    when(\n",
    "        (\n",
    "            (dayofweek(\"start_time\").between(2, 6)) &  # Monday (2) to Friday (6)\n",
    "            (\n",
    "                ((hour(\"start_time\") >= 6) & (hour(\"start_time\") < 10)) |\n",
    "                ((hour(\"start_time\") >= 16) & (hour(\"start_time\") < 20))\n",
    "            )\n",
    "        ),\n",
    "        True\n",
    "    ).otherwise(False)\n",
    ")"
   ]
  },
  {
   "cell_type": "code",
   "execution_count": 22,
   "id": "50f3a989-3249-4c37-9a8c-1ea68909d919",
   "metadata": {},
   "outputs": [],
   "source": [
    "#Get season based on month\n",
    "traffic_df = traffic_df.withColumn(\n",
    "    \"season\",\n",
    "    when(month(\"start_time\").isin(12, 1, 2), \"Winter\")\n",
    "    .when(month(\"start_time\").isin(3, 4, 5), \"Spring\")\n",
    "    .when(month(\"start_time\").isin(6, 7, 8), \"Summer\")\n",
    "    .otherwise(\"Fall\")\n",
    ")"
   ]
  },
  {
   "cell_type": "code",
   "execution_count": 23,
   "id": "d6de5214-3c4c-4e45-b41e-8de96bfc9105",
   "metadata": {},
   "outputs": [],
   "source": [
    "#Traffic incident duration in minutes\n",
    "traffic_df = traffic_df.withColumn(\n",
    "    \"duration_minutes\",\n",
    "    (unix_timestamp(\"end_time\") - unix_timestamp(\"start_time\")) / 60\n",
    ")"
   ]
  },
  {
   "cell_type": "code",
   "execution_count": 24,
   "id": "ea3ccc76-7641-40ff-ae2d-ba024d92cd66",
   "metadata": {},
   "outputs": [],
   "source": [
    "#Dropping columns - lots of Null values or don't see need for them\n",
    "df = traffic_df.drop(\"End_lat\", \"End_lng\", \"Airport_Code\", )"
   ]
  },
  {
   "cell_type": "code",
   "execution_count": 25,
   "id": "03d31fb9-8467-42b7-b7ef-9d9c3c585d43",
   "metadata": {},
   "outputs": [],
   "source": [
    "weather_map = {\n",
    "    \"Clear\": [\n",
    "        \"Clear\", \"Fair\", \"Fair / Windy\"\n",
    "    ],\n",
    "    \"Cloudy\": [\n",
    "        \"Cloudy\", \"Mostly Cloudy\", \"Scattered Clouds\", \"Partly Cloudy\", \"Overcast\",\n",
    "        \"Cloudy / Windy\", \"Partly Cloudy / Windy\", \"Mostly Cloudy / Windy\"\n",
    "    ],\n",
    "    \"Fog\": [\n",
    "        \"Fog\", \"Shallow Fog\", \"Patches of Fog\", \"Light Fog\", \"Mist\", \"Haze\", \"Light Haze\",\n",
    "        \"Partial Fog\", \"Partial Fog / Windy\", \"Fog / Windy\", \"Mist / Windy\", \"Haze / Windy\",\n",
    "        \"Shallow Fog / Windy\", \"Drizzle and Fog\", \"Patches of Fog / Windy\"\n",
    "    ],\n",
    "    \"Rain\": [\n",
    "        \"Rain\", \"Rain Shower\", \"Rain Shower / Windy\", \"Heavy Rain\", \"Heavy Rain / Windy\",\n",
    "        \"Light Rain\", \"Light Rain / Windy\", \"Rain / Windy\", \"Rain Showers\", \"Heavy Rain Showers\",\n",
    "        \"Light Rain Shower\", \"Light Rain Shower / Windy\", \"Heavy Rain Shower\", \"Heavy Rain Shower / Windy\",\n",
    "        \"Light Rain Showers\", \"Showers in the Vicinity\"\n",
    "    ],\n",
    "    \"Drizzle\": [\n",
    "        \"Drizzle\", \"Heavy Drizzle\", \"Light Drizzle\", \"Light Drizzle / Windy\", \"Drizzle / Windy\"\n",
    "    ],\n",
    "    \"Thunderstorm\": [\n",
    "        \"Thunder\", \"Thunderstorm\", \"Heavy Thunderstorms and Rain\", \"Heavy Thunderstorms and Snow\",\n",
    "        \"Thunderstorms and Rain\", \"Thunderstorms and Snow\", \"Heavy T-Storm\", \"T-Storm\", \"T-Storm / Windy\",\n",
    "        \"Heavy T-Storm / Windy\", \"Thunder / Windy\", \"Light Thunderstorm\", \"Light Rain with Thunder\",\n",
    "        \"Light Thunderstorms and Rain\", \"Light Thunderstorms and Snow\", \"Thunder / Wintry Mix\",\n",
    "        \"Thunder / Wintry Mix / Windy\", \"Thunder and Hail\", \"Thunder and Hail / Windy\",\n",
    "        \"Snow and Thunder\", \"Snow and Thunder / Windy\", \"Heavy Thunderstorms with Small Hail\",\n",
    "        \"Heavy Sleet and Thunder\", \"Thunder in the Vicinity\"\n",
    "    ],\n",
    "    \"Snow\": [\n",
    "        \"Snow\", \"Light Snow\", \"Heavy Snow\", \"Light Snow Showers\", \"Heavy Snow Showers\",\n",
    "        \"Snow Showers\", \"Blowing Snow\", \"Blowing Snow / Windy\", \"Heavy Blowing Snow\",\n",
    "        \"Light Blowing Snow\", \"Blowing Snow Nearby\", \"Light Snow Shower\", \"Light Snow Shower / Windy\",\n",
    "        \"Light Snow Showers\", \"Drifting Snow\", \"Drifting Snow / Windy\", \"Snow / Windy\", \"Heavy Snow with Thunder\", \n",
    "        \"Heavy Snow / Windy\", \"Light Snow / Windy\", \"Light Snow with Thunder\", \"Low Drifting Snow\", \"Snow Grains\"\n",
    "    ],\n",
    "    \"Sleet\": [\n",
    "        \"Sleet\", \"Light Sleet\", \"Heavy Sleet\", \"Wintry Mix\", \"Wintry Mix / Windy\",\n",
    "        \"Light Snow and Sleet\", \"Light Snow and Sleet / Windy\", \"Snow and Sleet\",\n",
    "        \"Snow and Sleet / Windy\", \"Sleet / Windy\", \"Sleet and Thunder\", \"Rain and Sleet\",\n",
    "        \"Light Sleet / Windy\", \"Light Snow Grains\", \"Heavy Sleet / Windy\"\n",
    "    ],\n",
    "    \"Freezing Rain\": [\n",
    "        \"Freezing Rain\", \"Light Freezing Rain\", \"Heavy Freezing Rain\",\n",
    "        \"Freezing Rain / Windy\", \"Light Freezing Rain / Windy\", \"Heavy Freezing Rain / Windy\",\n",
    "        \"Freezing Drizzle\", \"Heavy Freezing Drizzle\", \"Light Freezing Drizzle\", \"Light Freezing Fog\"\n",
    "    ],\n",
    "    \"Ice Pellets\": [\n",
    "        \"Ice Pellets\", \"Light Ice Pellets\", \"Heavy Ice Pellets\"\n",
    "    ],\n",
    "    \"Hail\": [\n",
    "        \"Hail\", \"Light Hail\", \"Small Hail\"\n",
    "    ],\n",
    "    \"Dust/Sand\": [\n",
    "        \"Duststorm\", \"Blowing Dust\", \"Blowing Dust / Windy\", \"Sand\", \"Sand / Windy\", \"Blowing Sand\",\n",
    "        \"Sand / Dust Whirls Nearby\", \"Sand / Dust Whirlwinds\", \"Sand / Dust Whirlwinds / Windy\",\n",
    "        \"Widespread Dust\", \"Widespread Dust / Windy\", \"Dust Whirls\", \"Squalls\", \"Squalls / Windy\"\n",
    "    ],\n",
    "    \"Smoke\": [\n",
    "        \"Smoke\", \"Smoke / Windy\", \"Heavy Smoke\"\n",
    "    ],\n",
    "    \"Tornado\": [\n",
    "        \"Funnel Cloud\", \"Tornado\"\n",
    "    ]\n",
    "}"
   ]
  },
  {
   "cell_type": "code",
   "execution_count": 26,
   "id": "93b91736-84ca-4747-a197-a185d899875d",
   "metadata": {},
   "outputs": [],
   "source": [
    "# Begin normalization logic\n",
    "traffic_df = traffic_df.withColumn(\"Normalized_Weather\", col(\"Weather_Condition\"))\n",
    "\n",
    "# Apply mapping\n",
    "for label, variants in weather_map.items():\n",
    "    traffic_df = traffic_df.withColumn(\n",
    "        \"Normalized_Weather\",\n",
    "        when(col(\"Weather_Condition\").isin(variants), label).otherwise(col(\"Normalized_Weather\"))\n",
    "    )\n"
   ]
  },
  {
   "cell_type": "code",
   "execution_count": 27,
   "id": "1868bef6-b5ed-401c-b3a6-414b48e9957d",
   "metadata": {},
   "outputs": [],
   "source": [
    "traffic_df = traffic_df.withColumn(\n",
    "    \"Wind_Direction\",\n",
    "    when(col(\"Wind_Direction\") == \"North\", \"N\")\n",
    "    .when(col(\"Wind_Direction\") == \"South\", \"S\")\n",
    "    .when(col(\"Wind_Direction\") == \"East\", \"E\")\n",
    "    .when(col(\"Wind_Direction\") == \"West\", \"W\")\n",
    "    .when(col(\"Wind_Direction\") == \"Variable\", \"VAR\")\n",
    "    .when(col(\"Wind_Direction\") == \"CALM\",  \"Calm\")\n",
    "    .otherwise(col(\"Wind_Direction\"))\n",
    ")\n"
   ]
  },
  {
   "cell_type": "code",
   "execution_count": 28,
   "id": "1b543938-de7f-4134-ac35-205443675ee2",
   "metadata": {},
   "outputs": [],
   "source": [
    "feature_cols = [\n",
    "    \"Amenity\", \"Bump\", \"Crossing\", \"Give_Way\", \"Junction\", \"No_Exit\",\n",
    "    \"Railway\", \"Roundabout\", \"Station\", \"Stop\", \"Traffic_Calming\",\n",
    "    \"Traffic_Signal\", \"Turning_Loop\"\n",
    "]\n",
    "\n",
    "traffic_df = traffic_df.withColumn(\n",
    "    \"Traffic_Feature\",\n",
    "    when(\n",
    "        sum((col(c) == \"True\").cast(\"int\") for c in feature_cols) >= 1,\n",
    "        \"True\"\n",
    "    ).otherwise(\"False\")\n",
    ")"
   ]
  },
  {
   "cell_type": "code",
   "execution_count": 29,
   "id": "6e113c3a-32b3-4bd1-a10d-da4eecc48019",
   "metadata": {},
   "outputs": [],
   "source": [
    "traffic_df = traffic_df.withColumn(\n",
    "    \"Visibility_Bucket\",\n",
    "    when(col(\"Visibility(mi)\") <= 0.5, \"Very Poor\")\n",
    "    .when((col(\"Visibility(mi)\") > 0.5) & (col(\"Visibility(mi)\") <= 1.0), \"Poor\")\n",
    "    .when((col(\"Visibility(mi)\") > 1.0) & (col(\"Visibility(mi)\") <= 3.0), \"Moderate\")\n",
    "    .when((col(\"Visibility(mi)\") > 3.0) & (col(\"Visibility(mi)\") <= 6.0), \"Fair\")\n",
    "    .when((col(\"Visibility(mi)\") > 6.0) & (col(\"Visibility(mi)\") <= 10.0), \"Good\")\n",
    "    .when((col(\"Visibility(mi)\") > 10.0) & (col(\"Visibility(mi)\") <= 75.0), \"Excellent\")\n",
    "    .otherwise(\"Unknown\")\n",
    ")"
   ]
  },
  {
   "cell_type": "code",
   "execution_count": 30,
   "id": "abbe5fd7-3216-401e-a4f3-4a4799725ba4",
   "metadata": {},
   "outputs": [],
   "source": [
    "traffic_df = traffic_df.withColumn(\n",
    "    \"twilight\",\n",
    "    when(\n",
    "        (col(\"Civil_Twilight\") == True) |\n",
    "        (col(\"Nautical_Twilight\") == True) |\n",
    "        (col(\"Astronomical_Twilight\") == True),\n",
    "        True\n",
    "    ).otherwise(False)\n",
    ")\n"
   ]
  },
  {
   "cell_type": "code",
   "execution_count": 31,
   "id": "af19c72b-a9fb-4165-be98-a80ecb0c274b",
   "metadata": {},
   "outputs": [],
   "source": [
    "#Fill Null Precipitation values with 0.0\n",
    "traffic_df = traffic_df.withColumn(\n",
    "    \"Precipitation(in)\",\n",
    "    when(\n",
    "        col(\"Precipitation(in)\").isNull() & \n",
    "        col(\"Normalized_Weather\").isin(\"Clear\", \"Cloudy\", \"Fog\"),\n",
    "        0.0\n",
    "    ).otherwise(col(\"Precipitation(in)\"))\n",
    ")\n",
    "\n",
    "\n",
    "#Fill wind chill Null values with Temperature value\n",
    "traffic_df = traffic_df.withColumn(\n",
    "    \"Wind_Chill(F)\",\n",
    "    when(\n",
    "        col(\"Wind_Chill(F)\").isNull() & \n",
    "        (col(\"Wind_Speed(mph)\") < 5),\n",
    "        col(\"Temperature(F)\")\n",
    "    ).otherwise(col(\"Wind_Chill(F)\"))\n",
    ")\n",
    "\n"
   ]
  },
  {
   "cell_type": "markdown",
   "id": "5613f009-d315-40d3-b481-72aa70e6e072",
   "metadata": {},
   "source": [
    "## DataFrame Creation"
   ]
  },
  {
   "cell_type": "code",
   "execution_count": 32,
   "id": "8b26ebfa-d6c9-43ff-8d43-a4b45f30f34c",
   "metadata": {},
   "outputs": [],
   "source": [
    "#Get numeric columns\n",
    "numeric_cols = [field.name for field in traffic_df.schema.fields \n",
    "                if isinstance(field.dataType, \n",
    "                              (DoubleType, IntegerType, FloatType, LongType, ShortType))]\n",
    "\n",
    "#Get boolean columns\n",
    "bool_cols = [field.name for field in traffic_df.schema.fields if isinstance(field.dataType, BooleanType)]\n",
    "\n",
    "\n",
    "#Get average of numeric columsn by severity\n",
    "severity_df = traffic_df.groupBy(\"Severity\").agg(\n",
    "    count(\"*\").alias(\"accident_count\"),\n",
    "    *[avg(col(c)).alias(f\"avg_{c}\") for c in numeric_cols],\n",
    "    *[spark_sum(col(b).cast(\"int\")).alias(f\"count_true_{b}\") for b in bool_cols]\n",
    ")\n",
    "\n",
    "\n"
   ]
  },
  {
   "cell_type": "code",
   "execution_count": 33,
   "id": "14595bef-36d9-4aba-83db-be942667b87b",
   "metadata": {},
   "outputs": [
    {
     "name": "stdout",
     "output_type": "stream",
     "text": [
      "+-----+--------+--------------+------------+------------------+-------------------+--------------------+------------------+------------------+-----------------+------------------+------------------+-------------------+---------------------+-------------------+--------------------+------------------+---------------+-------------------+-------------------+-------------------+------------------+------------------+---------------------+------------------+---------------+--------------------------+-------------------------+-----------------------+--------------------+-------------------+----------+\n",
      "|State|Severity|accident_count|avg_Severity|     avg_Start_Lat|      avg_Start_Lng|    avg_Distance(mi)|avg_Temperature(F)| avg_Wind_Chill(F)|  avg_Humidity(%)|  avg_Pressure(in)|avg_Visibility(mi)|avg_Wind_Speed(mph)|avg_Precipitation(in)|avg_day_of_week_num|avg_duration_minutes|count_true_Amenity|count_true_Bump|count_true_Crossing|count_true_Give_Way|count_true_Junction|count_true_No_Exit|count_true_Railway|count_true_Roundabout|count_true_Station|count_true_Stop|count_true_Traffic_Calming|count_true_Traffic_Signal|count_true_Turning_Loop|count_true_rush_hour|count_true_twilight|      2023|\n",
      "+-----+--------+--------------+------------+------------------+-------------------+--------------------+------------------+------------------+-----------------+------------------+------------------+-------------------+---------------------+-------------------+--------------------+------------------+---------------+-------------------+-------------------+-------------------+------------------+------------------+---------------------+------------------+---------------+--------------------------+-------------------------+-----------------------+--------------------+-------------------+----------+\n",
      "|   CO|       4|          7503|         4.0|39.389098293474056|-105.30227295663946|   2.166844994921828|46.180474679177586|40.399819790301436|54.07382828701783|25.630264026402635| 9.529823108240908|  9.146794777761478| 0.001628273000429246|  4.123417299746768|  192.33630992047634|                30|              0|                512|                 44|                509|                26|                50|                    0|                53|            329|                         1|                      593|                      0|                2373|                  0| 5,901,339|\n",
      "|   VA|       2|        230660|         2.0| 37.90158725025363| -77.60890994383527|  0.8191884765928795| 58.83665567042564|57.241957992634354|66.93200889931039|29.727626529298174| 9.159162010659383|  6.778849546610009|   0.0061281532554395|  4.110097112633313|   133.7639126853385|              3062|             34|              20330|               1808|              14407|               828|               799|                   10|              2809|           4356|                       147|                    31969|                      0|               98648|                  0| 8,734,685|\n",
      "|   UT|       4|          1646|         4.0| 40.14088548344226|-111.88171928852242|   2.729415556030459| 54.28649900727995|49.876760563380294|51.44738583719391| 27.64984116479152| 9.478765759787658|  8.506622516556291| 0.001051212938005391| 3.9750911300121508|  249.49046172539485|                15|              0|                276|                  2|                 90|                 8|                19|                    0|                71|             53|                         0|                      308|                      0|                 573|                  0| 3,443,222|\n",
      "|   IA|       2|         17220|         2.0| 41.73462641655286| -93.27828882302524|    1.72207950041441| 43.02767056588088| 34.12124891587165|73.15164154203659| 29.22381885090218| 8.152009170487704| 11.018010752688175| 0.004190606746930504|  4.122764227642277|  363.14367499032136|                99|              1|               1062|                 81|               1184|                19|                48|                    0|               100|            324|                         1|                     1446|                      0|                7727|                  0| 3,218,414|\n",
      "|   AR|       2|         19239|         2.0| 34.99828576052992| -92.39794839894792|  1.4746462394235054| 59.66990409579824| 58.07529003578013|71.05622276543734|29.616754325625696| 8.811701665075828|  7.088831725616292| 0.011425019836022213|  4.091532823951349|  107.95097198399087|                41|              0|                910|                 15|               1770|                14|                84|                    0|                 6|             50|                         0|                      457|                      0|                7341|                  0| 3,069,463|\n",
      "|   NC|       3|         29590|         3.0| 35.60458200723217| -79.87373960351476| 0.22886005404082735| 64.48183796856105| 62.63664256302097|68.44706288873532|29.631746261956557| 8.875796259808498|  7.145757122589056| 0.012608862258761228|   4.11588374450828|   64.24778810408921|                22|              0|                620|                 42|               2929|                11|                25|                    0|                38|             37|                         1|                     1492|                      0|               15252|                  0|10,881,189|\n",
      "|   AZ|       2|        140551|         2.0| 33.28289331880167| -111.7800617915625|  0.5317794822255713|  72.0173367809609|  70.5372337965022|32.86755292237075|28.366547559870167|10.214439490399306|  7.025158523226925| 0.001296790954663...| 4.0886866688959875|   137.5145157273873|              2644|            716|              47545|               1304|               5093|              1722|              1663|                    3|              4242|          17414|                       742|                    39274|                      0|               65093|                  0| 7,473,027|\n",
      "|   MD|       3|         25450|         3.0| 39.22470406758348| -76.84978503355603| 0.36047080499378353| 58.34852865477007|53.484832330180566|67.07591566834128|29.981053372584157| 8.885557892466158|  7.391311063911951| 0.006263453084735483|  4.018585461689588|   77.49834774066797|                14|              2|                593|                 21|               4648|                 6|               147|                    0|                87|             47|                        39|                     1280|                      0|               11888|                  0| 6,217,062|\n",
      "|   TN|       1|          2335|         1.0|35.913692585867246| -87.06037947880085|0.009823126312803151| 72.00694682675815| 71.93923010380622|64.39965694682675|29.399506861063468| 9.463184740677239|  6.908624407072014| 0.004239177025289327|  4.092505353319058|   50.75972876516774|                68|              0|                664|                  2|                 65|                 0|                19|                    0|                72|             26|                         1|                      842|                      0|                1431|                  0| 7,148,304|\n",
      "|   MT|       4|           459|         4.0| 46.54150429127076|-111.53623871442467|  2.2641263601598136| 37.87860360360361|31.839853300733495|65.63513513513513|26.630921348314608| 8.086448598130842|  9.433096926713947| 0.001990950226244...| 3.8453159041394334|  1183.9449164851126|                 1|              0|                  4|                  0|                 36|                 0|                 0|                    0|                 0|              2|                         0|                        6|                      0|                 154|                  0| 1,131,302|\n",
      "+-----+--------+--------------+------------+------------------+-------------------+--------------------+------------------+------------------+-----------------+------------------+------------------+-------------------+---------------------+-------------------+--------------------+------------------+---------------+-------------------+-------------------+-------------------+------------------+------------------+---------------------+------------------+---------------+--------------------------+-------------------------+-----------------------+--------------------+-------------------+----------+\n",
      "only showing top 10 rows\n",
      "\n"
     ]
    }
   ],
   "source": [
    "pop_spark = spark.createDataFrame(pop_df)\n",
    "\n",
    "state_df = traffic_df.groupBy(\"State\", \"Severity\").agg(\n",
    "    count(\"*\").alias(\"accident_count\"),\n",
    "    *[avg(col).alias(f\"avg_{col}\") for col in numeric_cols],\n",
    "    *[spark_sum(col(b).cast(\"int\")).alias(f\"count_true_{b}\") for b in bool_cols]\n",
    ")\n",
    "\n",
    "state_df = state_df.join(pop_spark, state_df[\"State\"] == pop_spark[\"Abbr\"], how=\"inner\")\n",
    "state_df = state_df.drop(\"Abbr\")\n",
    "state_df.show(10)\n",
    "\n",
    "\n"
   ]
  },
  {
   "cell_type": "code",
   "execution_count": 34,
   "id": "3f86a7ab-480c-4d2a-9b08-ec0ee93d4eec",
   "metadata": {},
   "outputs": [
    {
     "name": "stdout",
     "output_type": "stream",
     "text": [
      "+------------------+--------+--------------+------------+------------------+------------------+-------------------+------------------+------------------+-----------------+------------------+------------------+-------------------+---------------------+-------------------+--------------------+------------------+---------------+-------------------+-------------------+-------------------+------------------+------------------+---------------------+------------------+---------------+--------------------------+-------------------------+-----------------------+--------------------+-------------------+\n",
      "|Normalized_Weather|Severity|accident_count|avg_Severity|     avg_Start_Lat|     avg_Start_Lng|   avg_Distance(mi)|avg_Temperature(F)| avg_Wind_Chill(F)|  avg_Humidity(%)|  avg_Pressure(in)|avg_Visibility(mi)|avg_Wind_Speed(mph)|avg_Precipitation(in)|avg_day_of_week_num|avg_duration_minutes|count_true_Amenity|count_true_Bump|count_true_Crossing|count_true_Give_Way|count_true_Junction|count_true_No_Exit|count_true_Railway|count_true_Roundabout|count_true_Station|count_true_Stop|count_true_Traffic_Calming|count_true_Traffic_Signal|count_true_Turning_Loop|count_true_rush_hour|count_true_twilight|\n",
      "+------------------+--------+--------------+------------+------------------+------------------+-------------------+------------------+------------------+-----------------+------------------+------------------+-------------------+---------------------+-------------------+--------------------+------------------+---------------+-------------------+-------------------+-------------------+------------------+------------------+---------------------+------------------+---------------+--------------------------+-------------------------+-----------------------+--------------------+-------------------+\n",
      "|               Fog|       3|         26115|         3.0| 36.39152139624737|-101.4988420193758| 0.3587465823801633| 58.78905464945507| 54.12359413946137| 78.9935594009467|29.728174843684066|3.4719932561882136|  5.544429393836773| 0.001083668389814...|  4.047329121194716|   66.89606547960942|                74|              5|                745|                 88|               2642|                26|               185|                    0|               291|            165|                        11|                     1435|                      0|               13404|                  0|\n",
      "|             Sleet|       4|           438|         4.0| 40.32990874611011|-84.73362515461834| 1.8730273956708174| 30.61187214611872|23.833333333333332|90.46575342465754|29.008675799086756| 4.547374429223744|  8.513698630136986| 0.014073226544622428| 3.9680365296803655|  2621.1494292237435|                 1|              0|                 10|                  4|                 54|                 0|                 4|                    0|                 3|              9|                         0|                       21|                      0|                 167|                  0|\n",
      "|              Rain|       4|         12476|         4.0|38.290308322508096| -86.7725141529996| 1.4351347386429705|56.417942313889775| 53.51566056910569|88.98444840434149| 29.44570854755784| 6.311891349703096|  8.687356610566859| 0.048399111566717876|  4.053622956075666|  1392.9244282355453|               126|              4|                735|                 68|               1437|                19|                74|                    1|               151|            308|                         5|                     1102|                      0|                3953|                  0|\n",
      "|            Cloudy|       1|         26065|         1.0| 36.12808747285633|-91.95651763479763|0.12885006710060176| 71.30133743274403| 71.07238462737759|66.60957586021091|29.271956254796617| 9.691668586347232|  7.571789628029017| 0.001238826011893...|   4.04147323997698|   65.09615256729973|               694|             12|               6848|                206|               1342|               137|               452|                    0|              1240|            938|                        29|                     9868|                      0|               16053|                  0|\n",
      "|             Sleet|       2|         11575|         2.0| 40.82886197386083|-87.45809897052678| 1.4364909718087016|30.648522550544325| 23.28694900605013|89.73742437337943| 29.06720813500648| 4.103228986509858|  9.534785238959469|  0.02224902723735405|  4.085442764578834|   469.3546637868971|                81|              3|                535|                 35|               1040|                 9|                55|                    0|               105|            189|                         5|                      782|                      0|                4585|                  0|\n",
      "| N/A Precipitation|       4|           123|         4.0| 40.18269412885243|-91.70414932513313| 3.2148130059203477| 23.70940170940171| 11.18918918918919|81.82608695652173| 28.16154471544715|               4.0| 16.034188034188034| 0.007833333333333335|                4.0|   8747.700948509486|                 0|              0|                  5|                  0|                 13|                 0|                 3|                    0|                 0|              6|                         0|                        5|                      0|                  25|                  0|\n",
      "|           Drizzle|       1|           161|         1.0|36.795437291925474|-88.06754880124225| 0.2055900614306053| 60.81614906832298|60.100628930817614|86.43478260869566| 29.14428571428572| 5.910621118012422|  7.796250000000001| 0.006100628930817611|  3.720496894409938|   48.98136645962734|                 2|              0|                 37|                  2|                  7|                 0|                 5|                    0|                 5|              1|                         0|                       55|                      0|                 109|                  0|\n",
      "|              NULL|       1|           954|         1.0| 35.58882189203355|-93.47877807232703|0.16091299776017542| 75.50129032258064| 77.33333333333333|52.14193548387097|28.947290640394087| 9.660194174757281|  6.410071942446043| 7.142857142857143E-4| 4.0083857442348005|   45.46250873515025|                21|              0|                191|                  6|                 38|                 1|                 5|                    0|                33|             51|                         0|                      277|                      0|                 570|                  0|\n",
      "|               Fog|       4|          4117|         4.0|  38.2411596657965| -91.1284862616739| 1.5488229294633993| 51.95133284421618| 48.81052019761697|87.89645843580915|29.377173119065013|2.0524854227405247|  4.985799457994579| 9.497206703910616E-4|   4.07141122176342|   1277.555663509028|                29|              0|                195|                 22|                460|                 7|                26|                    0|                37|            119|                         2|                      326|                      0|                1622|                  0|\n",
      "|               Fog|       1|           936|         1.0|36.222921836538454|-92.33633767628206|0.11290811978229602| 64.32101841820152|  64.2284140969163|89.21316964285714|29.449989281886385| 2.399027777777778| 3.7219696969696967| 0.001089743589743...|  4.076923076923077|   47.57772435897436|                16|              0|                153|                  4|                 47|                 1|                 5|                    0|                27|             40|                         0|                      245|                      0|                 653|                  0|\n",
      "+------------------+--------+--------------+------------+------------------+------------------+-------------------+------------------+------------------+-----------------+------------------+------------------+-------------------+---------------------+-------------------+--------------------+------------------+---------------+-------------------+-------------------+-------------------+------------------+------------------+---------------------+------------------+---------------+--------------------------+-------------------------+-----------------------+--------------------+-------------------+\n",
      "only showing top 10 rows\n",
      "\n"
     ]
    }
   ],
   "source": [
    "weather_df = traffic_df.groupBy(\"Normalized_Weather\", \"Severity\").agg(\n",
    "    count(\"*\").alias(\"accident_count\"),\n",
    "    *[avg(col).alias(f\"avg_{col}\") for col in numeric_cols],\n",
    "    *[spark_sum(col(b).cast(\"int\")).alias(f\"count_true_{b}\") for b in bool_cols]\n",
    ")\n",
    "\n",
    "weather_df.show(10)"
   ]
  },
  {
   "cell_type": "code",
   "execution_count": 35,
   "id": "6c5ea9b9-69c7-481c-9187-9fb487c519ea",
   "metadata": {},
   "outputs": [],
   "source": [
    "feature_df = traffic_df.withColumn(\"Date\", to_date(\"Start_Time\")) \\\n",
    "    .groupBy(\"Date\", \"Traffic_Feature\") \\\n",
    "    .agg(count(\"*\").alias(\"accident_count\")) \\\n",
    "    .orderBy(\"Date\")\n"
   ]
  },
  {
   "cell_type": "code",
   "execution_count": 36,
   "id": "7354b920-920e-44c8-89a8-1018ce616943",
   "metadata": {},
   "outputs": [],
   "source": [
    "rh_trend_df = traffic_df.withColumn(\"Date\", to_date(\"Start_Time\")) \\\n",
    "    .groupBy(\"Date\", \"Rush_Hour\") \\\n",
    "    .agg(count(\"*\").alias(\"accident_count\")) \\\n",
    "    .orderBy(\"Date\")\n",
    "\n",
    "\n"
   ]
  },
  {
   "cell_type": "markdown",
   "id": "219dcfa1-9dd6-4823-9de3-412cbc8533f4",
   "metadata": {},
   "source": [
    "## Chi-Squared Tests"
   ]
  },
  {
   "cell_type": "code",
   "execution_count": 37,
   "id": "40e6cbd2-fb39-4dda-98e5-dcedc4695897",
   "metadata": {},
   "outputs": [
    {
     "name": "stdout",
     "output_type": "stream",
     "text": [
      "Chi-square: 38532.02842250485\n",
      "p-value: 0.0\n"
     ]
    }
   ],
   "source": [
    "#Chi-square Tests\n",
    "traffic_pd = traffic_df.select(\"Normalized_Weather\", \"Severity\").toPandas()\n",
    "contingency = pd.crosstab(traffic_pd['Normalized_Weather'], traffic_pd['Severity'])\n",
    "chi2, p, dof, expected = chi2_contingency(contingency)\n",
    "\n",
    "print(\"Chi-square:\", chi2)\n",
    "print(\"p-value:\", p)\n"
   ]
  },
  {
   "cell_type": "code",
   "execution_count": 38,
   "id": "304ff335-b3cf-4ded-8e9d-c2a1ad13c9d2",
   "metadata": {},
   "outputs": [
    {
     "name": "stdout",
     "output_type": "stream",
     "text": [
      "Chi-square: 109045.33967080842\n",
      "p-value: 0.0\n"
     ]
    }
   ],
   "source": [
    "traffic_pd = traffic_df.select(\"Season\", \"Severity\").toPandas()\n",
    "contingency = pd.crosstab(traffic_pd['Season'], traffic_pd['Severity'])\n",
    "chi2, p, dof, expected = chi2_contingency(contingency)\n",
    "\n",
    "print(\"Chi-square:\", chi2)\n",
    "print(\"p-value:\", p)\n"
   ]
  },
  {
   "cell_type": "code",
   "execution_count": 39,
   "id": "0010a9d1-832d-4d4f-9a3b-333b384bd3b6",
   "metadata": {},
   "outputs": [
    {
     "name": "stdout",
     "output_type": "stream",
     "text": [
      "Chi-square: 12395.031420778232\n",
      "p-value: 0.0\n"
     ]
    }
   ],
   "source": [
    "traffic_pd = traffic_df.select(\"day_of_week_num\", \"Severity\").toPandas()\n",
    "contingency = pd.crosstab(traffic_pd['day_of_week_num'], traffic_pd['Severity'])\n",
    "chi2, p, dof, expected = chi2_contingency(contingency)\n",
    "\n",
    "print(\"Chi-square:\", chi2)\n",
    "print(\"p-value:\", p)\n"
   ]
  },
  {
   "cell_type": "code",
   "execution_count": 40,
   "id": "23ff9b10-7a98-4cd0-9d66-8fd301a6ed19",
   "metadata": {},
   "outputs": [
    {
     "name": "stdout",
     "output_type": "stream",
     "text": [
      "Chi-square: 7897.301338823941\n",
      "p-value: 0.0\n"
     ]
    }
   ],
   "source": [
    "traffic_pd = traffic_df.select(\"Wind_Direction\", \"Severity\").toPandas()\n",
    "contingency = pd.crosstab(traffic_pd['Wind_Direction'], traffic_pd['Severity'])\n",
    "chi2, p, dof, expected = chi2_contingency(contingency)\n",
    "\n",
    "print(\"Chi-square:\", chi2)\n",
    "print(\"p-value:\", p)"
   ]
  },
  {
   "cell_type": "code",
   "execution_count": null,
   "id": "ab83bddc-f114-4e8d-9be6-654d36a132c3",
   "metadata": {},
   "outputs": [],
   "source": []
  },
  {
   "cell_type": "markdown",
   "id": "53325fd2-d4a1-41f6-bcea-91152d5dce51",
   "metadata": {},
   "source": [
    "## ANOVA"
   ]
  },
  {
   "cell_type": "code",
   "execution_count": 41,
   "id": "eba1b7bd-18d5-4cd4-9e24-83ca4dab4ce4",
   "metadata": {},
   "outputs": [
    {
     "name": "stdout",
     "output_type": "stream",
     "text": [
      "F-statistic: 466.4868238151845\n",
      "p-value: 4.1149662737147075e-303\n"
     ]
    }
   ],
   "source": [
    "traffic_pd = traffic_df.select(\"Visibility(mi)\", \"Severity\").toPandas()\n",
    "clean_df = traffic_pd.dropna(subset=[\"Visibility(mi)\", \"Severity\"])\n",
    "\n",
    "groups = [grp[\"Visibility(mi)\"].values for _, grp in clean_df.groupby(\"Severity\")]\n",
    "f_stat, p_val = f_oneway(*groups)\n",
    "\n",
    "print(\"F-statistic:\", f_stat)\n",
    "print(\"p-value:\", p_val)"
   ]
  },
  {
   "cell_type": "code",
   "execution_count": 42,
   "id": "34cf2196-cf59-4327-a593-dede02fa7848",
   "metadata": {},
   "outputs": [
    {
     "name": "stdout",
     "output_type": "stream",
     "text": [
      "F-statistic: 472.66892181473247\n",
      "p-value: 3.897138088116835e-307\n"
     ]
    }
   ],
   "source": [
    "traffic_pd = traffic_df.select(\"Precipitation(in)\", \"Severity\").toPandas()\n",
    "clean_df = traffic_pd.dropna(subset=[\"Precipitation(in)\", \"Severity\"])\n",
    "\n",
    "groups = [grp[\"Precipitation(in)\"].values for _, grp in clean_df.groupby(\"Severity\")]\n",
    "f_stat, p_val = f_oneway(*groups)\n",
    "\n",
    "print(\"F-statistic:\", f_stat)\n",
    "print(\"p-value:\", p_val) "
   ]
  },
  {
   "cell_type": "code",
   "execution_count": null,
   "id": "43c727e4-6b06-4c92-9478-a984ff51cef5",
   "metadata": {},
   "outputs": [],
   "source": []
  },
  {
   "cell_type": "markdown",
   "id": "50ccec0d-9f45-4238-ae10-66c3f9ad2f6c",
   "metadata": {},
   "source": []
  },
  {
   "cell_type": "code",
   "execution_count": null,
   "id": "1a3aab72-42c3-49f7-991d-fe40b042a401",
   "metadata": {},
   "outputs": [],
   "source": []
  },
  {
   "cell_type": "code",
   "execution_count": null,
   "id": "9873b849-4cf8-461f-9276-5f1aabc8dcbb",
   "metadata": {},
   "outputs": [],
   "source": []
  },
  {
   "cell_type": "code",
   "execution_count": null,
   "id": "51a48232-0f55-40d4-9655-3859f02d8568",
   "metadata": {},
   "outputs": [],
   "source": []
  },
  {
   "cell_type": "code",
   "execution_count": null,
   "id": "3cd8d456-cbe3-445a-93fb-0a3e3989e9ea",
   "metadata": {},
   "outputs": [],
   "source": []
  },
  {
   "cell_type": "code",
   "execution_count": null,
   "id": "6f7d10c1-1070-4079-88c0-af457325ed61",
   "metadata": {},
   "outputs": [],
   "source": []
  },
  {
   "cell_type": "code",
   "execution_count": null,
   "id": "fb772221-59d0-42e6-adf2-683aac058af6",
   "metadata": {},
   "outputs": [],
   "source": []
  },
  {
   "cell_type": "markdown",
   "id": "b895dfb3-f515-430a-9325-5ffa5ee2fc08",
   "metadata": {},
   "source": [
    "## File Write"
   ]
  },
  {
   "cell_type": "code",
   "execution_count": 43,
   "id": "29ae14c2-53e6-4b78-afc1-bd2456a44b38",
   "metadata": {},
   "outputs": [],
   "source": [
    "df = traffic_df.drop(\"End_lat\", \"End_lng\", \"Airport_Code\", \"Description\", \"Country\", \"Street\", \"Weather_Timestamp\", \"Wind_Chill(F)\", \n",
    "                     \"Weather_Condition\", \"Wind_Direction\", \"Amenity\", \"Bump\", \"Crossing\", \"Give_Way\", \"Junction\", \"No_Exit\", \n",
    "                     \"Railway\", \"Roundabout\", \"Station\", \"Stop\", \"Traffic_Calming\", \"Traffic_Signal\", \"Turning_Loop\", \"End_Time\", \"Zipcode\"\n",
    "                    )"
   ]
  },
  {
   "cell_type": "code",
   "execution_count": 44,
   "id": "4b1703e3-2241-4efd-aa9c-eeaf03f6871c",
   "metadata": {},
   "outputs": [
    {
     "name": "stdout",
     "output_type": "stream",
     "text": [
      "7024226\n",
      "5967898\n"
     ]
    }
   ],
   "source": [
    "#Remove Null values except for Precipitation and Wind Chill.  Eliminates about 700K rows out of 7.8 million\n",
    "df_cleaned = df.dropna()\n",
    "\n",
    "df_cleaned_2 = traffic_df.dropna()\n",
    "\n",
    "print(df_cleaned.count())\n",
    "print(df_cleaned_2.count())\n"
   ]
  },
  {
   "cell_type": "code",
   "execution_count": 68,
   "id": "687adac8-278c-42d5-ae63-958702b20b8e",
   "metadata": {},
   "outputs": [
    {
     "data": {
      "text/plain": [
       "7728308"
      ]
     },
     "execution_count": 68,
     "metadata": {},
     "output_type": "execute_result"
    }
   ],
   "source": [
    "cols_to_keep = [\"ID\", \"Severity\", \"Start_Time\", \"Distance(mi)\", \"State\", \"Timezone\", \"Rush_Hour\",\n",
    "                \"Sunrise_Sunset\", \"time_of_day\", \"Day_of_week_num\", \"duration_minutes\", \"Normalized_Weather\", \"Visibility_Bucket\", \"Traffic_Feature\"]\n",
    "    \n",
    "simple_df = traffic_df.select(cols_to_keep)\n",
    "simple_df.dropna()\n",
    "\n",
    "simple_df.count()"
   ]
  },
  {
   "cell_type": "code",
   "execution_count": 69,
   "id": "abcda297-b980-445c-84f5-38e4519ad39e",
   "metadata": {},
   "outputs": [],
   "source": [
    "#Write dataframe to csv file\n",
    "output_path = \"file:///home/jovyan/Week11/Capstone1/simple_data\"\n",
    "\n",
    "simple_df.coalesce(1) \\\n",
    "    .write \\\n",
    "    .option(\"header\", \"true\") \\\n",
    "    .mode(\"overwrite\") \\\n",
    "    .csv(output_path)"
   ]
  },
  {
   "cell_type": "markdown",
   "id": "fdd820e3-bda2-472d-a169-3269ec1e2dae",
   "metadata": {},
   "source": []
  },
  {
   "cell_type": "code",
   "execution_count": null,
   "id": "483aab70-cd06-4e14-9c59-4e18bb46cadb",
   "metadata": {},
   "outputs": [],
   "source": []
  },
  {
   "cell_type": "code",
   "execution_count": 47,
   "id": "92e020b4-5f47-40b7-b0be-2cad2e2f92bb",
   "metadata": {},
   "outputs": [],
   "source": [
    "#Write dataframe to csv file\n",
    "output_path = \"file:///home/jovyan/Week11/Capstone1/weather_data\"\n",
    "\n",
    "weather_df.coalesce(1) \\\n",
    "    .write \\\n",
    "    .option(\"header\", \"true\") \\\n",
    "    .mode(\"overwrite\") \\\n",
    "    .csv(output_path)\n"
   ]
  },
  {
   "cell_type": "code",
   "execution_count": 48,
   "id": "b8f95e7f-5c70-4030-bb24-c230def0a99e",
   "metadata": {},
   "outputs": [],
   "source": [
    "output_path = \"file:///home/jovyan/Week11/Capstone1/severity_data\"\n",
    "\n",
    "severity_df.coalesce(1) \\\n",
    "    .write \\\n",
    "    .option(\"header\", \"true\") \\\n",
    "    .mode(\"overwrite\") \\\n",
    "    .csv(output_path)\n"
   ]
  },
  {
   "cell_type": "code",
   "execution_count": 49,
   "id": "a2428d54-2725-4d61-9c39-859ef21b380c",
   "metadata": {},
   "outputs": [],
   "source": [
    "output_path = \"file:///home/jovyan/Week11/Capstone1/state_data\"\n",
    "\n",
    "state_df.coalesce(1) \\\n",
    "    .write \\\n",
    "    .option(\"header\", \"true\") \\\n",
    "    .mode(\"overwrite\") \\\n",
    "    .csv(output_path)\n"
   ]
  },
  {
   "cell_type": "code",
   "execution_count": 50,
   "id": "30ceecbe-4b1b-4e0f-9585-26b07d162484",
   "metadata": {},
   "outputs": [],
   "source": []
  },
  {
   "cell_type": "code",
   "execution_count": 51,
   "id": "ada65424-8d1f-4b59-8237-91e0b5277950",
   "metadata": {},
   "outputs": [],
   "source": []
  },
  {
   "cell_type": "code",
   "execution_count": 52,
   "id": "a2a864f1-a030-4d30-b82a-70c71c3a026a",
   "metadata": {},
   "outputs": [],
   "source": []
  },
  {
   "cell_type": "markdown",
   "id": "89476cdc-58c8-44b7-99e6-a1ea2c069e0d",
   "metadata": {},
   "source": [
    "## Business Insight/Recommendation 1"
   ]
  },
  {
   "cell_type": "code",
   "execution_count": 53,
   "id": "689e7650-da83-4e44-80f3-4625e0e0af1b",
   "metadata": {},
   "outputs": [],
   "source": [
    "#Snow/Icy conditions equals more severe accidnets"
   ]
  },
  {
   "cell_type": "code",
   "execution_count": 54,
   "id": "9cbb45db-27e6-4b9e-bb53-e1ddb3cdb487",
   "metadata": {},
   "outputs": [
    {
     "data": {
      "text/plain": [
       "Normalized_Weather\n",
       "Clear                0.624065\n",
       "Cloudy               0.614034\n",
       "Drizzle              0.592233\n",
       "Dust/Sand            0.490224\n",
       "Fog                  0.648163\n",
       "Freezing Rain        1.153866\n",
       "Hail                 0.551393\n",
       "Ice Pellets          0.964862\n",
       "N/A Precipitation    1.765571\n",
       "Rain                 0.669081\n",
       "Sleet                1.063354\n",
       "Smoke                1.041459\n",
       "Snow                 1.298949\n",
       "Thunderstorm         0.782855\n",
       "Tornado              0.302643\n",
       "Volcanic Ash         0.024500\n",
       "Name: avg_Distance(mi), dtype: float64"
      ]
     },
     "execution_count": 54,
     "metadata": {},
     "output_type": "execute_result"
    }
   ],
   "source": [
    "weather_pd = weather_df.toPandas()\n",
    "severity_pd = severity_df.toPandas()\n",
    "\n",
    "weather_pd.head()\n",
    "\n",
    "weather_pd.groupby(\"Normalized_Weather\")[\"avg_Distance(mi)\"].mean()"
   ]
  },
  {
   "cell_type": "code",
   "execution_count": 55,
   "id": "d9e3d3ac-f0f1-433f-99ba-cadcf80d5c70",
   "metadata": {},
   "outputs": [
    {
     "data": {
      "text/html": [
       "<div>\n",
       "<style scoped>\n",
       "    .dataframe tbody tr th:only-of-type {\n",
       "        vertical-align: middle;\n",
       "    }\n",
       "\n",
       "    .dataframe tbody tr th {\n",
       "        vertical-align: top;\n",
       "    }\n",
       "\n",
       "    .dataframe thead th {\n",
       "        text-align: right;\n",
       "    }\n",
       "</style>\n",
       "<table border=\"1\" class=\"dataframe\">\n",
       "  <thead>\n",
       "    <tr style=\"text-align: right;\">\n",
       "      <th></th>\n",
       "      <th>Severity</th>\n",
       "      <th>avg_Distance(mi)</th>\n",
       "    </tr>\n",
       "  </thead>\n",
       "  <tbody>\n",
       "    <tr>\n",
       "      <th>0</th>\n",
       "      <td>1</td>\n",
       "      <td>0.114507</td>\n",
       "    </tr>\n",
       "    <tr>\n",
       "      <th>1</th>\n",
       "      <td>3</td>\n",
       "      <td>0.419725</td>\n",
       "    </tr>\n",
       "    <tr>\n",
       "      <th>2</th>\n",
       "      <td>4</td>\n",
       "      <td>1.488163</td>\n",
       "    </tr>\n",
       "    <tr>\n",
       "      <th>3</th>\n",
       "      <td>2</td>\n",
       "      <td>0.563927</td>\n",
       "    </tr>\n",
       "  </tbody>\n",
       "</table>\n",
       "</div>"
      ],
      "text/plain": [
       "   Severity  avg_Distance(mi)\n",
       "0         1          0.114507\n",
       "1         3          0.419725\n",
       "2         4          1.488163\n",
       "3         2          0.563927"
      ]
     },
     "execution_count": 55,
     "metadata": {},
     "output_type": "execute_result"
    }
   ],
   "source": [
    "severity_pd[[\"Severity\", \"avg_Distance(mi)\"]]"
   ]
  },
  {
   "cell_type": "raw",
   "id": "ce0dfd4f-837d-492b-ab50-fca172680f96",
   "metadata": {},
   "source": [
    "The data shows that more severe accidents happen when there is more distance covered during the accident.  This can be seen in the case where there is perceipitation, specifically icy conditions like hail, rain, freezing rain, snow, sleet.  Accidents that occur during these situations have a higher chance of being more severe than other.  With this information it is important especially during conditions that cause longer accident collisions to be more preemptive with preventative measures, such as salting the roads, snow plows.  Although there is no way of stopping people from going out in these conditions, the more prepared we can be for them, the less likely there is to be an accident."
   ]
  },
  {
   "cell_type": "markdown",
   "id": "e2cc5b43-f23f-4601-8167-ec33de748c3d",
   "metadata": {},
   "source": [
    "## Business Insight/Recommendation 2"
   ]
  },
  {
   "cell_type": "code",
   "execution_count": 56,
   "id": "f5459821-5747-40ee-8ed1-3072aae5440c",
   "metadata": {},
   "outputs": [],
   "source": [
    "#Traffic Features minimize accidents and severity of accidents"
   ]
  },
  {
   "cell_type": "code",
   "execution_count": 57,
   "id": "a68a92cc-bda3-47e5-9679-750b4d8db464",
   "metadata": {},
   "outputs": [],
   "source": [
    "feature_df = traffic_df.withColumn(\"Date\", to_date(\"Start_Time\")) \\\n",
    "    .groupBy(\"Date\", \"Traffic_Feature\") \\\n",
    "    .agg(count(\"*\").alias(\"accident_count\")) \\\n",
    "    .orderBy(\"Date\")\n",
    "\n",
    "feature_pd = feature_df.toPandas()"
   ]
  },
  {
   "cell_type": "code",
   "execution_count": 58,
   "id": "38b2a7b6-77ce-4030-93d6-f4ff2ce20c5c",
   "metadata": {},
   "outputs": [
    {
     "data": {
      "text/html": [
       "<div>\n",
       "<style scoped>\n",
       "    .dataframe tbody tr th:only-of-type {\n",
       "        vertical-align: middle;\n",
       "    }\n",
       "\n",
       "    .dataframe tbody tr th {\n",
       "        vertical-align: top;\n",
       "    }\n",
       "\n",
       "    .dataframe thead th {\n",
       "        text-align: right;\n",
       "    }\n",
       "</style>\n",
       "<table border=\"1\" class=\"dataframe\">\n",
       "  <thead>\n",
       "    <tr style=\"text-align: right;\">\n",
       "      <th></th>\n",
       "      <th>Date</th>\n",
       "      <th>Traffic_Feature</th>\n",
       "      <th>accident_count</th>\n",
       "    </tr>\n",
       "  </thead>\n",
       "  <tbody>\n",
       "    <tr>\n",
       "      <th>0</th>\n",
       "      <td>2016-01-14</td>\n",
       "      <td>False</td>\n",
       "      <td>7</td>\n",
       "    </tr>\n",
       "    <tr>\n",
       "      <th>1</th>\n",
       "      <td>2016-02-08</td>\n",
       "      <td>False</td>\n",
       "      <td>43</td>\n",
       "    </tr>\n",
       "    <tr>\n",
       "      <th>2</th>\n",
       "      <td>2016-02-08</td>\n",
       "      <td>True</td>\n",
       "      <td>17</td>\n",
       "    </tr>\n",
       "    <tr>\n",
       "      <th>3</th>\n",
       "      <td>2016-02-09</td>\n",
       "      <td>True</td>\n",
       "      <td>11</td>\n",
       "    </tr>\n",
       "    <tr>\n",
       "      <th>4</th>\n",
       "      <td>2016-02-09</td>\n",
       "      <td>False</td>\n",
       "      <td>48</td>\n",
       "    </tr>\n",
       "  </tbody>\n",
       "</table>\n",
       "</div>"
      ],
      "text/plain": [
       "         Date Traffic_Feature  accident_count\n",
       "0  2016-01-14           False               7\n",
       "1  2016-02-08           False              43\n",
       "2  2016-02-08            True              17\n",
       "3  2016-02-09            True              11\n",
       "4  2016-02-09           False              48"
      ]
     },
     "execution_count": 58,
     "metadata": {},
     "output_type": "execute_result"
    }
   ],
   "source": [
    "feature_pd.head()"
   ]
  },
  {
   "cell_type": "code",
   "execution_count": 59,
   "id": "0ebc1821-ca1e-4a6f-b558-1fe58b707400",
   "metadata": {},
   "outputs": [
    {
     "data": {
      "image/png": "[encoded data removed]",
      "text/plain": [
       "<Figure size 1200x600 with 1 Axes>"
      ]
     },
     "metadata": {},
     "output_type": "display_data"
    }
   ],
   "source": [
    "pivot_df = feature_pd.pivot(index=\"Date\", columns=\"Traffic_Feature\", values=\"accident_count\")\n",
    "\n",
    "pivot_df.plot(figsize=(12, 6), linewidth=2)\n",
    "plt.title(\"Accidents Over Time by Traffic Feature\")\n",
    "plt.ylabel(\"Number of Accidents\")\n",
    "plt.xlabel(\"Date\")\n",
    "plt.legend([\"No-Feature\", \"Feature\"])\n",
    "plt.tight_layout()\n",
    "plt.show()\n"
   ]
  },
  {
   "cell_type": "code",
   "execution_count": null,
   "id": "41dbc44e-006e-4d95-b8d6-f676e224de90",
   "metadata": {},
   "outputs": [],
   "source": []
  },
  {
   "cell_type": "code",
   "execution_count": null,
   "id": "de1b5f5f-60df-43a8-a86e-4df8055451f4",
   "metadata": {},
   "outputs": [],
   "source": []
  },
  {
   "cell_type": "raw",
   "id": "7c01f048-b174-4ec1-8b75-86fc4e4ef517",
   "metadata": {},
   "source": [
    "Accident traffic is on the rise.  The is the case in most every scenario, however the rate at which it is rising is not at such a high rate when it comes to accidents at traffic features.  Traffic features can refer to the following (Amenity, Bump, Crossing, Give way, junction, no exit, railway, roundabout, station, stop, traffic signal, turning loop).  In these scenarios there are a lot more signage on the road which is clearly leading to less accidents rather than normal conditions.  So in order to prevent more accidents it would be more useful to have more signage in high accident areas such as traffic signals, stop signs, slowing down when necessary signs.  More signage, and slowing of speed is leading to less traffic accidents."
   ]
  },
  {
   "cell_type": "markdown",
   "id": "fb6a08c9-b21f-421a-a780-ea11609418e3",
   "metadata": {},
   "source": [
    "## Business Insight/Recommendation 3"
   ]
  },
  {
   "cell_type": "code",
   "execution_count": 60,
   "id": "3369653b-2e4b-437d-a666-13397555fd86",
   "metadata": {},
   "outputs": [],
   "source": [
    "#Rush Hour - wfh and mass transit to minimize"
   ]
  },
  {
   "cell_type": "code",
   "execution_count": 61,
   "id": "fa3064e7-1c56-4519-b953-56df8f6a20fc",
   "metadata": {},
   "outputs": [],
   "source": [
    "rh_df = traffic_df.select(\"Start_Time\", \"ID\", \"Severity\", \"Rush_Hour\")\n"
   ]
  },
  {
   "cell_type": "code",
   "execution_count": 62,
   "id": "30c940d8-b44e-47b6-a94e-e8545ba21c8b",
   "metadata": {},
   "outputs": [],
   "source": [
    "trend_df = traffic_df.withColumn(\"Date\", to_date(\"Start_Time\")) \\\n",
    "    .groupBy(\"Date\", \"Rush_Hour\") \\\n",
    "    .agg(count(\"*\").alias(\"accident_count\")) \\\n",
    "    .orderBy(\"Date\")\n",
    "\n",
    "trend_pd = trend_df.toPandas()"
   ]
  },
  {
   "cell_type": "code",
   "execution_count": 63,
   "id": "4d60b9ce-f736-4ea5-b342-231b977f9b10",
   "metadata": {},
   "outputs": [
    {
     "data": {
      "text/html": [
       "<div>\n",
       "<style scoped>\n",
       "    .dataframe tbody tr th:only-of-type {\n",
       "        vertical-align: middle;\n",
       "    }\n",
       "\n",
       "    .dataframe tbody tr th {\n",
       "        vertical-align: top;\n",
       "    }\n",
       "\n",
       "    .dataframe thead th {\n",
       "        text-align: right;\n",
       "    }\n",
       "</style>\n",
       "<table border=\"1\" class=\"dataframe\">\n",
       "  <thead>\n",
       "    <tr style=\"text-align: right;\">\n",
       "      <th></th>\n",
       "      <th>Date</th>\n",
       "      <th>Rush_Hour</th>\n",
       "      <th>accident_count</th>\n",
       "    </tr>\n",
       "  </thead>\n",
       "  <tbody>\n",
       "    <tr>\n",
       "      <th>0</th>\n",
       "      <td>2016-01-14</td>\n",
       "      <td>False</td>\n",
       "      <td>7</td>\n",
       "    </tr>\n",
       "    <tr>\n",
       "      <th>1</th>\n",
       "      <td>2016-02-08</td>\n",
       "      <td>False</td>\n",
       "      <td>23</td>\n",
       "    </tr>\n",
       "    <tr>\n",
       "      <th>2</th>\n",
       "      <td>2016-02-08</td>\n",
       "      <td>True</td>\n",
       "      <td>37</td>\n",
       "    </tr>\n",
       "    <tr>\n",
       "      <th>3</th>\n",
       "      <td>2016-02-09</td>\n",
       "      <td>True</td>\n",
       "      <td>42</td>\n",
       "    </tr>\n",
       "    <tr>\n",
       "      <th>4</th>\n",
       "      <td>2016-02-09</td>\n",
       "      <td>False</td>\n",
       "      <td>17</td>\n",
       "    </tr>\n",
       "  </tbody>\n",
       "</table>\n",
       "</div>"
      ],
      "text/plain": [
       "         Date  Rush_Hour  accident_count\n",
       "0  2016-01-14      False               7\n",
       "1  2016-02-08      False              23\n",
       "2  2016-02-08       True              37\n",
       "3  2016-02-09       True              42\n",
       "4  2016-02-09      False              17"
      ]
     },
     "execution_count": 63,
     "metadata": {},
     "output_type": "execute_result"
    }
   ],
   "source": [
    "trend_pd.head()"
   ]
  },
  {
   "cell_type": "code",
   "execution_count": 64,
   "id": "19897c5a-3b81-4db9-8bf7-0ac86a485dbf",
   "metadata": {},
   "outputs": [
    {
     "data": {
      "image/png": "[encoded data removed]",
      "text/plain": [
       "<Figure size 1200x600 with 1 Axes>"
      ]
     },
     "metadata": {},
     "output_type": "display_data"
    }
   ],
   "source": [
    "pivot_df = trend_pd.pivot(index=\"Date\", columns=\"Rush_Hour\", values=\"accident_count\")\n",
    "\n",
    "pivot_df.plot(figsize=(12, 6), linewidth=2)\n",
    "plt.title(\"Accidents Over Time by Rush Hour\")\n",
    "plt.ylabel(\"Number of Accidents\")\n",
    "plt.xlabel(\"Date\")\n",
    "plt.legend([\"Non-Rush Hour\", \"Rush Hour\"])\n",
    "plt.tight_layout()\n",
    "plt.show()\n"
   ]
  },
  {
   "cell_type": "code",
   "execution_count": null,
   "id": "123c06aa-a473-4789-a28c-52d66847ada9",
   "metadata": {},
   "outputs": [],
   "source": []
  },
  {
   "cell_type": "code",
   "execution_count": null,
   "id": "daf48d0b-31de-4335-98b2-38d9c926bad0",
   "metadata": {},
   "outputs": [],
   "source": []
  },
  {
   "cell_type": "raw",
   "id": "f779f713-5be8-4b60-afa8-14140e12d4a2",
   "metadata": {},
   "source": [
    "Traffic accidents are on the rise.  But a lot of accidnets happen during rush hours time (monday thru Friday 6am-10am & 4pm-8pm).  Even thought his time accounts for only 33.33% of available time to travel during the week - it accounts for about 45% of all accidents.  Outside the rush hour time window, accidents stayed on an increase each year, however during the rush hour window there was a dip during rush hour times in 2020 due to the pandemic.  During the pandemic less people were commuting to work, and since more people were working from home.  However now that we are getting back to normal working weeks with more people are traveling into the office, the accidents during rush hour are back on the rise.  In order to prevent this or minimize it there should be incentives for commuters to not be driving to work.  This could be by partnering with mass transit to incentivise people to commute via mass transit.  Another option is congestion pricing to deter people from traveling into work by charging a fee.  This not only would minimize the number of accidents, but it would also help with the pollution of the earth from burning less fossil fuels."
   ]
  },
  {
   "cell_type": "markdown",
   "id": "115de6ef-a197-4ec4-9b77-efc3aa8aa23d",
   "metadata": {},
   "source": [
    "## Tableau Link"
   ]
  },
  {
   "cell_type": "raw",
   "id": "1213d0b7-1ae2-4d9d-b702-fe558c69bf06",
   "metadata": {},
   "source": [
    "https://public.tableau.com/app/profile/andrew.castaldi/viz/US_Traffic_Accidents_2016-2023/MainDashboard"
   ]
  },
  {
   "cell_type": "code",
   "execution_count": null,
   "id": "abd321ee-7494-4bb8-baf7-d1fcb573bf29",
   "metadata": {},
   "outputs": [],
   "source": []
  },
  {
   "cell_type": "markdown",
   "id": "55449607-fad0-422e-ab5f-ddf4c5685b49",
   "metadata": {},
   "source": [
    "## Conclusion"
   ]
  },
  {
   "cell_type": "raw",
   "id": "2dcd7952-0a79-4497-9cf1-5608d1b5a42a",
   "metadata": {},
   "source": [
    "In conclusion, the pandemic seems to have changed traffic trends.  Traffic was pretty consistent before 2020 and has been more sporatic since.  This could be due to people moving to the suburbs and out of the city which is leading to more driving and therefore more accidents.  But as things still level out in normality there should be a more consistent trend.  Even though there are clear trends here.  Such as weather is a big point of accidents.  It seems that lack of signage is too.  Rush hour data would be better to gather now, but still there was a major change in rush hour data.  Just before the pandemic, rush hour accounted for more than 50% of all accidents.  Since then, it still contributes a lot and is back on the rise to catching up with accidents outside of rush hour, but not the same majority volume it was prior to the pandemic.  There are definitely clear improvements that could be made here, but no one imporvement that would fix everything.  Each improvement would take time to put into place but would be beneficial.  If there was an interesting in putting more traffic features on the roads, there would need to be a further deeper analysis into each state or location to see where these features would be most beneficial.  High accident areas would be the focus there."
   ]
  },
  {
   "cell_type": "code",
   "execution_count": null,
   "id": "d2f10e21-f53e-4a8a-8454-61f14c706d4d",
   "metadata": {},
   "outputs": [],
   "source": []
  },
  {
   "cell_type": "code",
   "execution_count": null,
   "id": "d657196b-3708-4837-b370-aa94856f5052",
   "metadata": {},
   "outputs": [],
   "source": []
  },
  {
   "cell_type": "code",
   "execution_count": null,
   "id": "1c1f99e0-747b-4a04-97da-4018f24242ae",
   "metadata": {},
   "outputs": [],
   "source": []
  },
  {
   "cell_type": "code",
   "execution_count": null,
   "id": "7b910503-8dd7-47d1-b2ce-75a236ef914a",
   "metadata": {},
   "outputs": [],
   "source": []
  }
 ],
 "metadata": {
  "kernelspec": {
   "display_name": "Python 3 (ipykernel)",
   "language": "python",
   "name": "python3"
  },
  "language_info": {
   "codemirror_mode": {
    "name": "ipython",
    "version": 3
   },
   "file_extension": ".py",
   "mimetype": "text/x-python",
   "name": "python",
   "nbconvert_exporter": "python",
   "pygments_lexer": "ipython3",
   "version": "3.11.6"
  }
 },
 "nbformat": 4,
 "nbformat_minor": 5
}
